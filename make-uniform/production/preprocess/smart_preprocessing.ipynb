{
 "cells": [
  {
   "cell_type": "code",
   "execution_count": 1,
   "metadata": {},
   "outputs": [],
   "source": [
    "import pandas as pd"
   ]
  },
  {
   "cell_type": "code",
   "execution_count": 2,
   "metadata": {},
   "outputs": [],
   "source": [
    "df_raw = pd.read_csv(r'C:\\Users\\ywang\\Documents\\R\\OnboardSurvey_2020Oct_yq\\Data and Reports\\SMART\\As CSV\\SMART Standardized Final Data NO POUND NO SINGLE QUOTE.csv')\n",
    "\n",
    "df = df_raw.copy()\n",
    "df.rename(columns = {'CCGID': 'ID'}, inplace=True)\n",
    "cols = [x.strip().replace(' ','_') for x in list(df)]\n",
    "df.columns = cols\n",
    "\n",
    "df['first_route_before_survey_board'] = df['1_system_before'] + '___' + df['1_route_before'].astype(str)\n",
    "df['second_route_before_survey_board'] = df['2_system_before'] + '___' + df['2_route_before'].astype(str)\n",
    "df['third_route_before_survey_board'] = df['3_system_before'] + '___' + df['3_route_before'].astype(str)\n",
    "df['first_route_after_survey_alight'] = df['1_after_system'] + '___' + df['1_route_after_system'].astype(str)\n",
    "df['second_route_after_survey_alight'] = df['2_after_system'] + '___' + df['2_route_after_system'].astype(str)\n",
    "df['third_route_after_survey_alight'] = df['3_after_system'] + '___' + df['3_route_after_system'].astype(str)\n",
    "\n",
    "df['survey_time'] = df['interview_start_time']\n",
    "\n",
    "df.to_csv(r'C:\\Users\\ywang\\Documents\\R\\OnboardSurvey_2020Oct_yq\\Data and Reports\\SMART\\As CSV\\SMART Standardized Final Data_addRouteCols_NO POUND NO SINGLE QUOTE.csv', index=False)"
   ]
  },
  {
   "cell_type": "code",
   "execution_count": 3,
   "metadata": {},
   "outputs": [
    {
     "name": "stdout",
     "output_type": "stream",
     "text": [
      "(52, 3)\n"
     ]
    },
    {
     "name": "stderr",
     "output_type": "stream",
     "text": [
      "C:\\Users\\ywang\\Anaconda3\\lib\\site-packages\\ipykernel_launcher.py:9: SettingWithCopyWarning: \n",
      "A value is trying to be set on a copy of a slice from a DataFrame\n",
      "\n",
      "See the caveats in the documentation: https://pandas.pydata.org/pandas-docs/stable/user_guide/indexing.html#returning-a-view-versus-a-copy\n",
      "  if __name__ == '__main__':\n",
      "C:\\Users\\ywang\\Anaconda3\\lib\\site-packages\\ipykernel_launcher.py:10: SettingWithCopyWarning: \n",
      "A value is trying to be set on a copy of a slice from a DataFrame.\n",
      "Try using .loc[row_indexer,col_indexer] = value instead\n",
      "\n",
      "See the caveats in the documentation: https://pandas.pydata.org/pandas-docs/stable/user_guide/indexing.html#returning-a-view-versus-a-copy\n",
      "  # Remove the CWD from sys.path while we load stuff.\n",
      "C:\\Users\\ywang\\Anaconda3\\lib\\site-packages\\ipykernel_launcher.py:11: SettingWithCopyWarning: \n",
      "A value is trying to be set on a copy of a slice from a DataFrame.\n",
      "Try using .loc[row_indexer,col_indexer] = value instead\n",
      "\n",
      "See the caveats in the documentation: https://pandas.pydata.org/pandas-docs/stable/user_guide/indexing.html#returning-a-view-versus-a-copy\n",
      "  # This is added back by InteractiveShellApp.init_path()\n"
     ]
    }
   ],
   "source": [
    "routes = pd.DataFrame(columns = ['survey_name'])\n",
    "for i in ['first_route_before_survey_board', 'second_route_before_survey_board', 'third_route_before_survey_board',\n",
    "          'first_route_after_survey_alight', 'second_route_after_survey_alight', 'third_route_after_survey_alight']:\n",
    "    route_unique = df[[i]]\n",
    "    route_unique.columns = ['survey_name']\n",
    "    routes = pd.concat([routes, route_unique])\n",
    "\n",
    "routes_clean = routes.loc[routes.survey_name.notnull()]\n",
    "routes_clean.drop_duplicates(inplace=True)\n",
    "routes_clean['survey'] = 'Sonoma-Marin Area Rail Transit'\n",
    "routes_clean['survey_year'] = 2018\n",
    "\n",
    "print(routes_clean.shape)\n",
    "routes_clean[['survey','survey_year','survey_name']].to_csv(r'C:\\Users\\ywang\\Documents\\R\\OnboardSurvey_2020Oct_yq\\Data and Reports\\SMART\\As CSV\\all_routes_raw.csv', index=False)"
   ]
  },
  {
   "cell_type": "code",
   "execution_count": 4,
   "metadata": {},
   "outputs": [],
   "source": [
    "var_raw = pd.read_csv(r'C:\\Users\\ywang\\Documents\\R\\OnboardSurvey_2020Oct_yq\\Data and Reports\\SMART\\As CSV\\variables_dictionary.csv',\n",
    "                      usecols = ['operator', 'Survey_year', 'Survey_Variable', 'Survey_Response', 'Generic_Variable', 'Generic_Response'])\n",
    "var = var_raw.drop_duplicates()\n",
    "var = var.loc[var.Generic_Variable.notnull()]\n",
    "for i in var['Survey_Variable']:\n",
    "    if i not in list(df):\n",
    "        print(i)\n",
    "var.to_csv(r'C:\\Users\\ywang\\Documents\\R\\OnboardSurvey_2020Oct_yq\\Data and Reports\\SMART\\As CSV\\vars_for_standard_dictionary.csv')"
   ]
  },
  {
   "cell_type": "code",
   "execution_count": 5,
   "metadata": {},
   "outputs": [
    {
     "name": "stdout",
     "output_type": "stream",
     "text": [
      "['ID', 'RunID', 'interview_start_time', 'interview_end_time', 'day_of_week', 'date', 'DTYPE', 'STRATA', 'WC', 'LANG', 'DIRECTION', 'orig_purp', 'dest_purp', 'sch', 'sch.1', 'school_name', 'college_name', 'access_mode', 'egress_mode', 'origlat', 'origlon', 'first_board_lat', 'first_board_lon', 'last_alight_lat', 'last_alight_lon', 'endlat', 'endlon', 'xfers_before', '1_system_before', '1_route_before', '1_before_lat_start', '1_before_long_start', '1_before_lat_end', '1_before_long_end', '2_system_before', '2_route_before', '2_before_lat_start', '2_before_long_start', '2_before_lat_end', '2_before_long_end', '3_system_before', '3_route_before', '3_before_lat_start', '3_before_long_start', '3_before_lat_end', '3_before_long_end', 'route', 'routeboard_lat', 'routeboard_long', 'routealight_lat', 'routealight_long', 'xfers_after', '1_after_system', '1_route_after_system', '1_after_lat_start', '1_after_long_start', '1_after_lat_end', '1_after_long_end', '2_after_system', '2_route_after_system', '2_after_lat_start', '2_after_long_start', '2_after_lat_end', '2_after_long_end', '3_after_system', '3_route_after_system', '3_after_lat_start', '3_after_long_start', '3_after_lat_end', '3_after_long_end', 'fare', 'farecat', 'cars', 'hh', 'hhwork', 'birthyear', 'age', 'hisp', 'race_dmy_ind', 'race_dmy_hwi', 'race_dmy_blk', 'race_dmy_wht', 'race_dmy_asn', 'race_other', 'race_6_other', 'income', 'language_at_home_binary', 'language_at_home_detail', 'engspk', 'livebay', 'home_lat', 'home_lon', 'work_status', 'work_lat', 'work_lon', 'at_work_after_dest_purp', 'at_work_prior_to_orig_purp', 'school_lat', 'school_lon', 'at_school_after_dest_purp', 'at_school_prior_to_orig_purp', 'depart_hour', 'return_hour', 'gender', 'Mode', 'ST', 'WEIGHT', 'TWEIGHT', 'first_route_before_survey_board', 'second_route_before_survey_board', 'third_route_before_survey_board', 'first_route_after_survey_alight', 'second_route_after_survey_alight', 'third_route_after_survey_alight', 'survey_time']\n"
     ]
    }
   ],
   "source": [
    "print(list(df))"
   ]
  }
 ],
 "metadata": {
  "kernelspec": {
   "display_name": "Python 3",
   "language": "python",
   "name": "python3"
  },
  "language_info": {
   "codemirror_mode": {
    "name": "ipython",
    "version": 3
   },
   "file_extension": ".py",
   "mimetype": "text/x-python",
   "name": "python",
   "nbconvert_exporter": "python",
   "pygments_lexer": "ipython3",
   "version": "3.7.6"
  }
 },
 "nbformat": 4,
 "nbformat_minor": 4
}
