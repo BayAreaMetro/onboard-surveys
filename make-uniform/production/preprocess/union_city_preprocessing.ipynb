{
 "cells": [
  {
   "cell_type": "code",
   "execution_count": 56,
   "metadata": {},
   "outputs": [],
   "source": [
    "import pandas as pd\n",
    "import datetime"
   ]
  },
  {
   "cell_type": "code",
   "execution_count": 75,
   "metadata": {},
   "outputs": [],
   "source": [
    "df_raw = pd.read_csv(r'C:\\Users\\ywang\\Documents\\R\\OnboardSurvey_2020Oct_yq\\Data and Reports\\Union City\\2017\\Union City Transit_Data File_Final_Standardized.csv')"
   ]
  },
  {
   "cell_type": "code",
   "execution_count": 76,
   "metadata": {},
   "outputs": [],
   "source": [
    "df_raw['first_route_before_survey_board'] = df_raw['1_system_before'] + '___' + df_raw['1_route_before']\n",
    "df_raw['second_route_before_survey_board'] = df_raw['2_system_before'] + '___' + df_raw['2_route_before']\n",
    "df_raw['first_route_after_survey_alight'] = df_raw['1_after_system'] + '___' + df_raw['1_route_after_system']\n",
    "df_raw['second_route_after_survey_alight'] = df_raw['2_after_system'] + '___' + df_raw['2_route_after_system']"
   ]
  },
  {
   "cell_type": "code",
   "execution_count": 77,
   "metadata": {},
   "outputs": [],
   "source": [
    "#import datetime\n",
    "df_raw['survey_starttime'] = df_raw['sys_starttime'].apply(lambda x: x.split(\" - \")[1])\n",
    "df_raw['survey_starttime'] = df_raw['survey_starttime'].apply(lambda x: x.replace(\" PDT\",\"\"))\n",
    "\n",
    "#new_time=datetime.datetime.strptime(time,\"%H:%M:%S%z\")\n",
    "#new_time\n",
    "#df_raw['survey_endtime'] = df_raw['sys_endtime'][0].split(\" - \")[1]"
   ]
  },
  {
   "cell_type": "code",
   "execution_count": 78,
   "metadata": {},
   "outputs": [
    {
     "name": "stdout",
     "output_type": "stream",
     "text": [
      "['id', 'sys_starttime', 'sys_endtime', 'run', 'route', 'rcode', 'day', 'date', 'dtype', 'strata', 'wcode', 'weight', 'alt_weight', 'interview_language', 'orig_purp', 'dest_purp', 'sch', 'school_name', 'college_name', 'access_mode', 'egress_mode', 'startlat', 'startlon', 'first_board_lat ', 'first_board_lon', 'last_alight_lat ', 'last_alight_lon', 'endlat', 'endlon', 'xfers_before', '1_system_before', '1_route_before', '1_before_lat_start', '1_before_long_start', '1_before_lat_end', '1_before_long_end', '2_system_before', '2_route_before', '2_before_lat_start', '2_before_long_start', '2_before_lat_end', '2_before_long_end', 'route.1', 'routeboard_lat', 'routeboard_long', 'routealight_lat', 'routealight_long', 'xfers_after', '1_after_system', '1_route_after_system', '1_after_lat_start', '1_after_long_start', '1_after_lat_end', '1_after_long_end', '2_after_system', '2_route_after_system', '2_after_lat_start', '2_after_long_start', '2_after_lat_end', '2_after_long_end', 'fare', 'farecat', 'cars', 'hh', 'hhwork', 'yearborn', 'hisp', 'race_dmy_asn', 'race_dmy_blk', 'race_dmy_hwi', 'race_dmy_ind', 'race_dmy_wht', 'race_other', 'income', 'language_at_home_binary', 'langhh', 'eng_proficient', 'resident_status_county', 'homelat', 'homelon', 'work_status', 'worklat', 'worklon', 'at_work_after_dest_purp', 'at_work_prior_to_orig_purp', 'school_lat', 'school_lon', 'at_school_after_dest_purp', 'at_school_prior_to_orig_purp', 'depart_hour', 'return_hour', 'gender', 'mode', 'first_route_before_survey_board', 'second_route_before_survey_board', 'first_route_after_survey_alight', 'second_route_after_survey_alight', 'survey_starttime']\n",
      "['id', 'sys_starttime', 'sys_endtime', 'run', 'route', 'rcode', 'day', 'date', 'dtype', 'strata', 'wcode', 'weight', 'alt_weight', 'interview_language', 'orig_purp', 'dest_purp', 'sch', 'school_name', 'college_name', 'access_mode', 'egress_mode', 'startlat', 'startlon', 'first_board_lat', 'first_board_lon', 'last_alight_lat', 'last_alight_lon', 'endlat', 'endlon', 'xfers_before', '1_system_before', '1_route_before', '1_before_lat_start', '1_before_long_start', '1_before_lat_end', '1_before_long_end', '2_system_before', '2_route_before', '2_before_lat_start', '2_before_long_start', '2_before_lat_end', '2_before_long_end', 'route.1', 'routeboard_lat', 'routeboard_long', 'routealight_lat', 'routealight_long', 'xfers_after', '1_after_system', '1_route_after_system', '1_after_lat_start', '1_after_long_start', '1_after_lat_end', '1_after_long_end', '2_after_system', '2_route_after_system', '2_after_lat_start', '2_after_long_start', '2_after_lat_end', '2_after_long_end', 'fare', 'farecat', 'cars', 'hh', 'hhwork', 'yearborn', 'hisp', 'race_dmy_asn', 'race_dmy_blk', 'race_dmy_hwi', 'race_dmy_ind', 'race_dmy_wht', 'race_other', 'income', 'language_at_home_binary', 'langhh', 'eng_proficient', 'resident_status_county', 'homelat', 'homelon', 'work_status', 'worklat', 'worklon', 'at_work_after_dest_purp', 'at_work_prior_to_orig_purp', 'school_lat', 'school_lon', 'at_school_after_dest_purp', 'at_school_prior_to_orig_purp', 'depart_hour', 'return_hour', 'gender', 'mode', 'first_route_before_survey_board', 'second_route_before_survey_board', 'first_route_after_survey_alight', 'second_route_after_survey_alight', 'survey_starttime']\n"
     ]
    }
   ],
   "source": [
    "print(list(df_raw))\n",
    "cols = [x.strip() for x in list(df_raw)]\n",
    "df = df_raw.copy()\n",
    "df.columns = cols\n",
    "print(list(df))\n",
    "df.to_csv(r'C:\\Users\\ywang\\Documents\\R\\OnboardSurvey_2020Oct_yq\\Data and Reports\\Union City\\2017\\Union City Transit_fix_error_add_time_route_NO POUND OR SINGLE QUOTE.csv')"
   ]
  },
  {
   "cell_type": "code",
   "execution_count": 66,
   "metadata": {},
   "outputs": [
    {
     "name": "stdout",
     "output_type": "stream",
     "text": [
      "(30, 1)\n"
     ]
    },
    {
     "name": "stderr",
     "output_type": "stream",
     "text": [
      "C:\\Users\\ywang\\Anaconda3\\lib\\site-packages\\ipykernel_launcher.py:9: SettingWithCopyWarning: \n",
      "A value is trying to be set on a copy of a slice from a DataFrame\n",
      "\n",
      "See the caveats in the documentation: https://pandas.pydata.org/pandas-docs/stable/user_guide/indexing.html#returning-a-view-versus-a-copy\n",
      "  if __name__ == '__main__':\n"
     ]
    }
   ],
   "source": [
    "routes = pd.DataFrame(columns = ['route'])\n",
    "for i in ['first_route_before_survey_board', 'second_route_before_survey_board',\n",
    "          'first_route_after_survey_alight', 'second_route_after_survey_alight']:\n",
    "    route_unique = df_raw[[i]]\n",
    "    route_unique.columns = ['route']\n",
    "    routes = pd.concat([routes, route_unique])\n",
    "\n",
    "routes_clean = routes.loc[routes.route.notnull()]\n",
    "routes_clean.drop_duplicates(inplace=True)\n",
    "print(routes_clean.shape)\n",
    "routes_clean.to_csv(r'C:\\Users\\ywang\\Documents\\R\\OnboardSurvey_2020Oct_yq\\Data and Reports\\Union City\\2017\\all_routes_raw.csv', index=False)"
   ]
  },
  {
   "cell_type": "code",
   "execution_count": 67,
   "metadata": {},
   "outputs": [],
   "source": [
    "var = pd.read_csv(r'C:\\Users\\ywang\\Documents\\R\\OnboardSurvey_2020Oct_yq\\Data and Reports\\Union City\\2017\\variable_dictionary.csv',\n",
    "                  encoding = \"ISO-8859-1\", engine='python')"
   ]
  },
  {
   "cell_type": "code",
   "execution_count": 68,
   "metadata": {},
   "outputs": [],
   "source": [
    "for i in var['Survey_Variable']:\n",
    "    if i not in cols:\n",
    "        print(i)"
   ]
  },
  {
   "cell_type": "code",
   "execution_count": 79,
   "metadata": {},
   "outputs": [
    {
     "data": {
      "text/html": [
       "<div>\n",
       "<style scoped>\n",
       "    .dataframe tbody tr th:only-of-type {\n",
       "        vertical-align: middle;\n",
       "    }\n",
       "\n",
       "    .dataframe tbody tr th {\n",
       "        vertical-align: top;\n",
       "    }\n",
       "\n",
       "    .dataframe thead th {\n",
       "        text-align: right;\n",
       "    }\n",
       "</style>\n",
       "<table border=\"1\" class=\"dataframe\">\n",
       "  <thead>\n",
       "    <tr style=\"text-align: right;\">\n",
       "      <th></th>\n",
       "      <th>sys_starttime</th>\n",
       "      <th>survey_starttime</th>\n",
       "    </tr>\n",
       "  </thead>\n",
       "  <tbody>\n",
       "    <tr>\n",
       "      <th>0</th>\n",
       "      <td>04 Oct 2017 - 17:30:39 PDT</td>\n",
       "      <td>17:30:39</td>\n",
       "    </tr>\n",
       "    <tr>\n",
       "      <th>1</th>\n",
       "      <td>04 Oct 2017 - 17:46:18 PDT</td>\n",
       "      <td>17:46:18</td>\n",
       "    </tr>\n",
       "    <tr>\n",
       "      <th>2</th>\n",
       "      <td>15 Oct 2017 - 17:00:40 PDT</td>\n",
       "      <td>17:00:40</td>\n",
       "    </tr>\n",
       "    <tr>\n",
       "      <th>3</th>\n",
       "      <td>13 Oct 2017 - 16:58:49 PDT</td>\n",
       "      <td>16:58:49</td>\n",
       "    </tr>\n",
       "    <tr>\n",
       "      <th>4</th>\n",
       "      <td>23 Oct 2017 - 13:40:07 PDT</td>\n",
       "      <td>13:40:07</td>\n",
       "    </tr>\n",
       "    <tr>\n",
       "      <th>...</th>\n",
       "      <td>...</td>\n",
       "      <td>...</td>\n",
       "    </tr>\n",
       "    <tr>\n",
       "      <th>195</th>\n",
       "      <td>28 Oct 2017 - 13:21:58 PDT</td>\n",
       "      <td>13:21:58</td>\n",
       "    </tr>\n",
       "    <tr>\n",
       "      <th>196</th>\n",
       "      <td>28 Oct 2017 - 13:28:36 PDT</td>\n",
       "      <td>13:28:36</td>\n",
       "    </tr>\n",
       "    <tr>\n",
       "      <th>197</th>\n",
       "      <td>28 Oct 2017 - 17:21:10 PDT</td>\n",
       "      <td>17:21:10</td>\n",
       "    </tr>\n",
       "    <tr>\n",
       "      <th>198</th>\n",
       "      <td>12 Oct 2017 - 13:27:45 PDT</td>\n",
       "      <td>13:27:45</td>\n",
       "    </tr>\n",
       "    <tr>\n",
       "      <th>199</th>\n",
       "      <td>12 Oct 2017 - 14:08:55 PDT</td>\n",
       "      <td>14:08:55</td>\n",
       "    </tr>\n",
       "  </tbody>\n",
       "</table>\n",
       "<p>200 rows × 2 columns</p>\n",
       "</div>"
      ],
      "text/plain": [
       "                  sys_starttime survey_starttime\n",
       "0    04 Oct 2017 - 17:30:39 PDT         17:30:39\n",
       "1    04 Oct 2017 - 17:46:18 PDT         17:46:18\n",
       "2    15 Oct 2017 - 17:00:40 PDT         17:00:40\n",
       "3    13 Oct 2017 - 16:58:49 PDT         16:58:49\n",
       "4    23 Oct 2017 - 13:40:07 PDT         13:40:07\n",
       "..                          ...              ...\n",
       "195  28 Oct 2017 - 13:21:58 PDT         13:21:58\n",
       "196  28 Oct 2017 - 13:28:36 PDT         13:28:36\n",
       "197  28 Oct 2017 - 17:21:10 PDT         17:21:10\n",
       "198  12 Oct 2017 - 13:27:45 PDT         13:27:45\n",
       "199  12 Oct 2017 - 14:08:55 PDT         14:08:55\n",
       "\n",
       "[200 rows x 2 columns]"
      ]
     },
     "execution_count": 79,
     "metadata": {},
     "output_type": "execute_result"
    }
   ],
   "source": [
    "df[['sys_starttime','survey_starttime']]"
   ]
  },
  {
   "cell_type": "code",
   "execution_count": null,
   "metadata": {},
   "outputs": [],
   "source": []
  }
 ],
 "metadata": {
  "kernelspec": {
   "display_name": "Python 3",
   "language": "python",
   "name": "python3"
  },
  "language_info": {
   "codemirror_mode": {
    "name": "ipython",
    "version": 3
   },
   "file_extension": ".py",
   "mimetype": "text/x-python",
   "name": "python",
   "nbconvert_exporter": "python",
   "pygments_lexer": "ipython3",
   "version": "3.7.6"
  }
 },
 "nbformat": 4,
 "nbformat_minor": 4
}
