{
 "metadata": {
  "name": "",
  "signature": "sha256:95567c700205f39327505505485dc9790deb99d7596abfba80a23ffeaea4b726"
 },
 "nbformat": 3,
 "nbformat_minor": 0,
 "worksheets": [
  {
   "cells": [
    {
     "cell_type": "markdown",
     "metadata": {},
     "source": [
      "# Key Places to Travel Model Geographies\n",
      "\n",
      "## Purpose\n",
      "Geo-code the on-board survey locations to the Travel Model spatial boundaries\n",
      "\n",
      "## Boundary File Versions\n",
      "Travel Model Two, Version 1.0 Boundaries\n",
      "Geo-database provided by PB: `mtctm2Revised` renamed `mtctm2zonesv10`\n",
      "\n",
      "Travel Model One, Well-established, static Boundaries\n",
      "\n",
      "## Procedure\n",
      "\n",
      "### Step 0: Overhead"
     ]
    },
    {
     "cell_type": "code",
     "collapsed": false,
     "input": [
      "workspace   = \"M:/Data/OnBoard/Data and Reports/Geocoding Engine/\"\n",
      "keep_fields = ['Unique_ID','variable','x_coord','y_coord','MAZ_ORIGINAL','TAZ1454']\n",
      "x_field     = \"x_coord\"\n",
      "y_field     = \"y_coord\""
     ],
     "language": "python",
     "metadata": {},
     "outputs": [],
     "prompt_number": 18
    },
    {
     "cell_type": "markdown",
     "metadata": {},
     "source": [
      "### Step 1: Travel Model Two Geographies"
     ]
    },
    {
     "cell_type": "code",
     "collapsed": false,
     "input": [
      "geodatabase = \"mtctm2zonesv10.gdb\"\n",
      "geodatabase_name = \"mazs\"\n",
      "input_csv = \"spatial_places_to_be_geocoded.csv\"\n",
      "output_csv = \"interim.csv\""
     ],
     "language": "python",
     "metadata": {},
     "outputs": [],
     "prompt_number": 19
    },
    {
     "cell_type": "code",
     "collapsed": false,
     "input": [
      "run -i GoNotebookTravelModel.py"
     ],
     "language": "python",
     "metadata": {},
     "outputs": [
      {
       "output_type": "stream",
       "stream": "stdout",
       "text": [
        "Step 0:  Party started ...\n",
        "Step 1:  XY event layer created ..."
       ]
      },
      {
       "output_type": "stream",
       "stream": "stdout",
       "text": [
        "\n",
        "Step 2:  Copying features ..."
       ]
      },
      {
       "output_type": "stream",
       "stream": "stdout",
       "text": [
        "\n",
        "Step 3:  Geo-coded points to boundaries ..."
       ]
      },
      {
       "output_type": "stream",
       "stream": "stdout",
       "text": [
        "\n",
        "Step 4:  Write to M:/Data/OnBoard/Data and Reports/Geocoding Engine/temp.csv ..."
       ]
      },
      {
       "output_type": "stream",
       "stream": "stdout",
       "text": [
        "\n",
        "Step 5:  Write to M:/Data/OnBoard/Data and Reports/Geocoding Engine/interim.csv ...\n",
        "Finished:  Wrap it up.\n"
       ]
      }
     ],
     "prompt_number": 20
    },
    {
     "cell_type": "markdown",
     "metadata": {},
     "source": [
      "### Step 2: Travel Model One Geographies"
     ]
    },
    {
     "cell_type": "code",
     "collapsed": false,
     "input": [
      "geodatabase = \"CSV_TAZ.gdb\"\n",
      "geodatabase_name = \"TAZs_DD\"\n",
      "input_csv = output_csv\n",
      "output_csv = \"spatial_places_geocoded.csv\""
     ],
     "language": "python",
     "metadata": {},
     "outputs": [],
     "prompt_number": 21
    },
    {
     "cell_type": "code",
     "collapsed": false,
     "input": [
      "run -i GoNotebookTravelModel.py"
     ],
     "language": "python",
     "metadata": {},
     "outputs": [
      {
       "output_type": "stream",
       "stream": "stdout",
       "text": [
        "Step 0:  Party started ...\n",
        "Step 1:  XY event layer created ..."
       ]
      },
      {
       "output_type": "stream",
       "stream": "stdout",
       "text": [
        "\n",
        "Step 2:  Copying features ..."
       ]
      },
      {
       "output_type": "stream",
       "stream": "stdout",
       "text": [
        "\n",
        "Step 3:  Geo-coded points to boundaries ..."
       ]
      },
      {
       "output_type": "stream",
       "stream": "stdout",
       "text": [
        "\n",
        "Step 4:  Write to M:/Data/OnBoard/Data and Reports/Geocoding Engine/temp.csv ..."
       ]
      },
      {
       "output_type": "stream",
       "stream": "stdout",
       "text": [
        "\n",
        "Step 5:  Write to M:/Data/OnBoard/Data and Reports/Geocoding Engine/spatial_places_geocoded.csv ..."
       ]
      },
      {
       "output_type": "stream",
       "stream": "stdout",
       "text": [
        "\n",
        "Finished:  Wrap it up.\n"
       ]
      }
     ],
     "prompt_number": 22
    }
   ],
   "metadata": {}
  }
 ]
}