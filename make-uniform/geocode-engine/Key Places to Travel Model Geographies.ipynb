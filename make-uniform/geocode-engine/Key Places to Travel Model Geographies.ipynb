{
 "cells": [
  {
   "cell_type": "markdown",
   "metadata": {},
   "source": [
    "# Key Places to Travel Model Geographies\n",
    "\n",
    "## Purpose\n",
    "Geo-code the on-board survey locations to the Travel Model spatial boundaries\n",
    "\n",
    "## Boundary File Versions\n",
    "Travel Model Two, Version 1.0 Boundaries\n",
    "Geo-database provided by PB: `mtctm2Revised` renamed `mtctm2zonesv10`\n",
    "\n",
    "Travel Model One, Well-established, static Boundaries\n",
    "\n",
    "## Procedure\n",
    "\n",
    "### Step 0: Overhead"
   ]
  },
  {
   "cell_type": "code",
   "execution_count": 1,
   "metadata": {
    "collapsed": true
   },
   "outputs": [],
   "source": [
    "workspace   = \"M:/Data/OnBoard/Data and Reports/_geocoding Standardized/\"\n",
    "keep_fields = ['Unique_ID','variable','x_coord','y_coord','MAZ_ORIGINAL','TAZ1454']\n",
    "x_field     = \"x_coord\"\n",
    "y_field     = \"y_coord\""
   ]
  },
  {
   "cell_type": "markdown",
   "metadata": {},
   "source": [
    "### Step 1: Travel Model Two Geographies"
   ]
  },
  {
   "cell_type": "code",
   "execution_count": 2,
   "metadata": {
    "collapsed": true
   },
   "outputs": [],
   "source": [
    "geodatabase = \"mtctm2zonesv10.gdb\"\n",
    "geodatabase_name = \"mazs\"\n",
    "#input_csv = \"spatial_places_to_be_geocoded.csv\"\n",
    "input_csv = \"debug.csv\"\n",
    "output_csv = \"interim.csv\""
   ]
  },
  {
   "cell_type": "code",
   "execution_count": 3,
   "metadata": {
    "collapsed": false
   },
   "outputs": [
    {
     "name": "stdout",
     "output_type": "stream",
     "text": [
      "Step 0:  Party started ...\n",
      "Step 1:  XY event layer created ...\n",
      "Step 2:  Copying features ...\n",
      "Step 3:  Geo-coded points to boundaries ...\n",
      "Step 4:  Write to M:/Data/OnBoard/Data and Reports/_geocoding Standardized/temp.csv ...\n",
      "Step 5:  Write to M:/Data/OnBoard/Data and Reports/_geocoding Standardized/interim.csv ...\n",
      "Finished:  Wrap it up.\n"
     ]
    }
   ],
   "source": [
    "run -i GoNotebookTravelModel.py"
   ]
  },
  {
   "cell_type": "markdown",
   "metadata": {},
   "source": [
    "If bug in the above, try copying the input_csv file to a new file.  Odd formatting bug I cannot find."
   ]
  },
  {
   "cell_type": "markdown",
   "metadata": {},
   "source": [
    "### Step 2: Travel Model One Geographies"
   ]
  },
  {
   "cell_type": "code",
   "execution_count": 4,
   "metadata": {
    "collapsed": true
   },
   "outputs": [],
   "source": [
    "geodatabase = \"CSV_TAZ.gdb\"\n",
    "geodatabase_name = \"TAZs_DD\"\n",
    "input_csv = output_csv\n",
    "output_csv = \"spatial_places_geocoded.csv\""
   ]
  },
  {
   "cell_type": "code",
   "execution_count": 5,
   "metadata": {
    "collapsed": false
   },
   "outputs": [
    {
     "name": "stdout",
     "output_type": "stream",
     "text": [
      "Step 0:  Party started ...\n",
      "Step 1:  XY event layer created ...\n",
      "Step 2:  Copying features ...\n",
      "Step 3:  Geo-coded points to boundaries ...\n",
      "Step 4:  Write to M:/Data/OnBoard/Data and Reports/_geocoding Standardized/temp.csv ...\n",
      "Step 5:  Write to M:/Data/OnBoard/Data and Reports/_geocoding Standardized/spatial_places_geocoded.csv ...\n",
      "Finished:  Wrap it up.\n"
     ]
    }
   ],
   "source": [
    "run -i GoNotebookTravelModel.py"
   ]
  },
  {
   "cell_type": "code",
   "execution_count": null,
   "metadata": {
    "collapsed": true
   },
   "outputs": [],
   "source": []
  }
 ],
 "metadata": {
  "anaconda-cloud": {},
  "kernelspec": {
   "display_name": "Python [arc1031]",
   "language": "python",
   "name": "Python [arc1031]"
  },
  "language_info": {
   "codemirror_mode": {
    "name": "ipython",
    "version": 2
   },
   "file_extension": ".py",
   "mimetype": "text/x-python",
   "name": "python",
   "nbconvert_exporter": "python",
   "pygments_lexer": "ipython2",
   "version": "2.7.8"
  }
 },
 "nbformat": 4,
 "nbformat_minor": 0
}
