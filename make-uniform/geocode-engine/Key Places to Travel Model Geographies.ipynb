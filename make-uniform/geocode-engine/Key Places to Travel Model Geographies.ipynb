{
 "cells": [
  {
   "cell_type": "markdown",
   "metadata": {},
   "source": [
    "# Key Places to Travel Model Geographies\n",
    "\n",
    "## Purpose\n",
    "Geo-code the on-board survey locations to the Travel Model spatial boundaries\n",
    "\n",
    "## Boundary File Versions\n",
    "Travel Model Two, Version 1.0 Boundaries\n",
    "Geo-database provided by PB: `mtctm2Revised` renamed `mtctm2zonesv10`\n",
    "\n",
    "Travel Model One, Well-established, static Boundaries\n",
    "\n",
    "## Procedure\n",
    "\n",
    "### Step 0: Overhead"
   ]
  },
  {
   "cell_type": "code",
   "execution_count": 1,
   "metadata": {
    "collapsed": true
   },
   "outputs": [],
   "source": [
    "workspace   = \"M:/Data/OnBoard/Data and Reports/_geocoding Standardized/\"\n",
    "keep_fields = ['Unique_ID','variable','x_coord','y_coord','MAZ_ORIGINAL','TAZ1454']\n",
    "x_field     = \"x_coord\"\n",
    "y_field     = \"y_coord\""
   ]
  },
  {
   "cell_type": "markdown",
   "metadata": {},
   "source": [
    "### Step 1: Travel Model Two Geographies"
   ]
  },
  {
   "cell_type": "code",
   "execution_count": 22,
   "metadata": {
    "collapsed": true
   },
   "outputs": [],
   "source": [
    "geodatabase = \"mtctm2zonesv10.gdb\"\n",
    "geodatabase_name = \"mazs\"\n",
    "input_csv = \"spatial_places_to_be_geocoded.csv\"\n",
    "#input_csv = \"debug.csv\"\n",
    "output_csv = \"interim.csv\""
   ]
  },
  {
   "cell_type": "code",
   "execution_count": 23,
   "metadata": {
    "collapsed": false
   },
   "outputs": [
    {
     "name": "stdout",
     "output_type": "stream",
     "text": [
      "Step 0:  Party started ...\n"
     ]
    },
    {
     "ename": "ExecuteError",
     "evalue": "ERROR 000212: Cannot create XY event source\nFailed to execute (MakeXYEventLayer).\n",
     "output_type": "error",
     "traceback": [
      "\u001b[0;31m---------------------------------------------------------------------------\u001b[0m",
      "\u001b[0;31mExecuteError\u001b[0m                              Traceback (most recent call last)",
      "\u001b[0;32mC:\\Users\\dory\\Documents\\GitHub\\onboard-surveys\\make-uniform\\geocode-engine\\GoNotebookTravelModel.py\u001b[0m in \u001b[0;36m<module>\u001b[0;34m()\u001b[0m\n\u001b[1;32m     23\u001b[0m \u001b[0;34m\u001b[0m\u001b[0m\n\u001b[1;32m     24\u001b[0m \u001b[0;31m# create the xy event layer\u001b[0m\u001b[0;34m\u001b[0m\u001b[0;34m\u001b[0m\u001b[0m\n\u001b[0;32m---> 25\u001b[0;31m \u001b[0marcpy\u001b[0m\u001b[0;34m.\u001b[0m\u001b[0mMakeXYEventLayer_management\u001b[0m\u001b[0;34m(\u001b[0m\u001b[0minput_csv_file\u001b[0m\u001b[0;34m,\u001b[0m \u001b[0mx_field\u001b[0m\u001b[0;34m,\u001b[0m \u001b[0my_field\u001b[0m\u001b[0;34m,\u001b[0m \u001b[0mxy_event_layer_name\u001b[0m\u001b[0;34m,\u001b[0m \u001b[0mspatial_ref\u001b[0m \u001b[0;34m,\u001b[0m \u001b[0;34m\"\"\u001b[0m\u001b[0;34m)\u001b[0m\u001b[0;34m\u001b[0m\u001b[0m\n\u001b[0m\u001b[1;32m     26\u001b[0m \u001b[0;32mprint\u001b[0m\u001b[0;34m(\u001b[0m\u001b[0;34m\"Step 1:  XY event layer created ...\"\u001b[0m\u001b[0;34m)\u001b[0m\u001b[0;34m\u001b[0m\u001b[0m\n\u001b[1;32m     27\u001b[0m \u001b[0;34m\u001b[0m\u001b[0m\n",
      "\u001b[0;32mC:\\Program Files (x86)\\ArcGIS\\Engine10.3\\ArcPy\\arcpy\\management.py\u001b[0m in \u001b[0;36mMakeXYEventLayer\u001b[0;34m(table, in_x_field, in_y_field, out_layer, spatial_reference, in_z_field)\u001b[0m\n\u001b[1;32m   7120\u001b[0m         \u001b[0;32mreturn\u001b[0m \u001b[0mretval\u001b[0m\u001b[0;34m\u001b[0m\u001b[0m\n\u001b[1;32m   7121\u001b[0m     \u001b[0;32mexcept\u001b[0m \u001b[0mException\u001b[0m\u001b[0;34m,\u001b[0m \u001b[0me\u001b[0m\u001b[0;34m:\u001b[0m\u001b[0;34m\u001b[0m\u001b[0m\n\u001b[0;32m-> 7122\u001b[0;31m         \u001b[0;32mraise\u001b[0m \u001b[0me\u001b[0m\u001b[0;34m\u001b[0m\u001b[0m\n\u001b[0m\u001b[1;32m   7123\u001b[0m \u001b[0;34m\u001b[0m\u001b[0m\n\u001b[1;32m   7124\u001b[0m \u001b[0;34m@\u001b[0m\u001b[0mgptooldoc\u001b[0m\u001b[0;34m(\u001b[0m\u001b[0;34m'SaveToLayerFile_management'\u001b[0m\u001b[0;34m,\u001b[0m \u001b[0mNone\u001b[0m\u001b[0;34m)\u001b[0m\u001b[0;34m\u001b[0m\u001b[0m\n",
      "\u001b[0;31mExecuteError\u001b[0m: ERROR 000212: Cannot create XY event source\nFailed to execute (MakeXYEventLayer).\n"
     ]
    }
   ],
   "source": [
    "run -i GoNotebookTravelModel.py"
   ]
  },
  {
   "cell_type": "markdown",
   "metadata": {},
   "source": [
    "If bug in the above, try copying the input_csv file to a new file.  Odd formatting bug I cannot find."
   ]
  },
  {
   "cell_type": "markdown",
   "metadata": {},
   "source": [
    "### Step 2: Travel Model One Geographies"
   ]
  },
  {
   "cell_type": "code",
   "execution_count": 20,
   "metadata": {
    "collapsed": true
   },
   "outputs": [],
   "source": [
    "geodatabase = \"CSV_TAZ.gdb\"\n",
    "geodatabase_name = \"TAZs_DD\"\n",
    "input_csv = output_csv\n",
    "output_csv = \"spatial_places_geocoded.csv\""
   ]
  },
  {
   "cell_type": "code",
   "execution_count": 21,
   "metadata": {
    "collapsed": false
   },
   "outputs": [
    {
     "name": "stdout",
     "output_type": "stream",
     "text": [
      "Step 0:  Party started ...\n",
      "Step 1:  XY event layer created ...\n",
      "Step 2:  Copying features ...\n",
      "Step 3:  Geo-coded points to boundaries ...\n",
      "Step 4:  Write to M:/Data/OnBoard/Data and Reports/_geocoding Standardized/temp.csv ...\n",
      "Step 5:  Write to M:/Data/OnBoard/Data and Reports/_geocoding Standardized/spatial_places_geocoded.csv ...\n",
      "Finished:  Wrap it up.\n"
     ]
    }
   ],
   "source": [
    "run -i GoNotebookTravelModel.py"
   ]
  },
  {
   "cell_type": "code",
   "execution_count": null,
   "metadata": {
    "collapsed": true
   },
   "outputs": [],
   "source": []
  }
 ],
 "metadata": {
  "anaconda-cloud": {},
  "kernelspec": {
   "display_name": "Python [arc1031]",
   "language": "python",
   "name": "Python [arc1031]"
  },
  "language_info": {
   "codemirror_mode": {
    "name": "ipython",
    "version": 2
   },
   "file_extension": ".py",
   "mimetype": "text/x-python",
   "name": "python",
   "nbconvert_exporter": "python",
   "pygments_lexer": "ipython2",
   "version": "2.7.8"
  }
 },
 "nbformat": 4,
 "nbformat_minor": 0
}
