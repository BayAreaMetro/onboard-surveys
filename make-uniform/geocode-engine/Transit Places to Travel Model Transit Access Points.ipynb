{
 "cells": [
  {
   "cell_type": "markdown",
   "metadata": {},
   "source": [
    "# Engine to Geo-code Transit Boarding Location to Travel Model Two Transit Access Points\n",
    "\n",
    "## Purpose\n",
    "Use cartesian geometry to find the nearest Travel Model Two transit access point, segmented by technology, for each observed on-board survey record.  Locate the first transit boarding TAP and the last transit alighting TAP.\n",
    "\n",
    "## Notes\n",
    "Transit boarding locations outside the 9-county Bay Area (e.g., ACE stations in San Joaquin) will be located to the nearest 9-county Bay Area transit location.\n"
   ]
  },
  {
   "cell_type": "markdown",
   "metadata": {},
   "source": [
    "#### Needed libraries"
   ]
  },
  {
   "cell_type": "code",
   "execution_count": 1,
   "metadata": {
    "collapsed": true
   },
   "outputs": [],
   "source": [
    "import datetime\n",
    "import pandas\n",
    "import numpy as np\n",
    "from numpy import random,argsort,sqrt"
   ]
  },
  {
   "cell_type": "markdown",
   "metadata": {},
   "source": [
    "#### TAP Version 0.0\n",
    "Note the TAPs were re-projected to Lat/Long"
   ]
  },
  {
   "cell_type": "code",
   "execution_count": 2,
   "metadata": {
    "collapsed": true
   },
   "outputs": [],
   "source": [
    "filename_taps = 'M:/Data/OnBoard/Data and Reports/_geocoding Standardized/TAPs/taps_lat_long.csv'\n",
    "df_taps       = pandas.read_csv(filename_taps, index_col = 'N')\n",
    "df_taps       = df_taps.drop(['OBJECTID','X','Y','COUNTY','TYPE','ID'],1)"
   ]
  },
  {
   "cell_type": "markdown",
   "metadata": {},
   "source": [
    "#### Read in the observations and create fields for nearest TAP and distance to nearest TAP"
   ]
  },
  {
   "cell_type": "code",
   "execution_count": 3,
   "metadata": {
    "collapsed": true
   },
   "outputs": [],
   "source": [
    "# Boarding\n",
    "filename_obs_board = 'M:/Data/OnBoard/Data and Reports/_geocoding Standardized/boarding_places_to_be_geocoded.csv'\n",
    "df_obs_board       = pandas.read_csv(filename_obs_board, index_col = 'Unique_ID')\n",
    "\n",
    "df_obs_board['tap'] = -999\n",
    "df_obs_board['tap_dist'] = -999.99999\n",
    "\n",
    "# Alighting\n",
    "filename_obs_alight = 'M:/Data/OnBoard/Data and Reports/_geocoding Standardized/alighting_places_to_be_geocoded.csv'\n",
    "df_obs_alight       = pandas.read_csv(filename_obs_alight, index_col = 'Unique_ID')\n",
    "\n",
    "df_obs_alight['tap'] = -999\n",
    "df_obs_alight['tap_dist'] = -999.99999"
   ]
  },
  {
   "cell_type": "markdown",
   "metadata": {},
   "source": [
    "#### Create a separate dataframe for each mode category, save in a tuple"
   ]
  },
  {
   "cell_type": "code",
   "execution_count": 4,
   "metadata": {
    "collapsed": false
   },
   "outputs": [
    {
     "data": {
      "text/plain": [
       "heavy rail       43509\n",
       "local bus         5057\n",
       "commuter rail     4776\n",
       "light rail         566\n",
       "express bus         55\n",
       "ferry                8\n",
       "Name: first_board_tech, dtype: int64"
      ]
     },
     "execution_count": 4,
     "metadata": {},
     "output_type": "execute_result"
    }
   ],
   "source": [
    "df_obs_board.first_board_tech.value_counts()"
   ]
  },
  {
   "cell_type": "code",
   "execution_count": 5,
   "metadata": {
    "collapsed": false
   },
   "outputs": [
    {
     "data": {
      "text/plain": [
       "heavy rail       42911\n",
       "local bus         5069\n",
       "commuter rail     4920\n",
       "light rail         758\n",
       "express bus         43\n",
       "ferry               11\n",
       "Name: last_alight_tech, dtype: int64"
      ]
     },
     "execution_count": 5,
     "metadata": {},
     "output_type": "execute_result"
    }
   ],
   "source": [
    "df_obs_alight.last_alight_tech.value_counts()"
   ]
  },
  {
   "cell_type": "code",
   "execution_count": 6,
   "metadata": {
    "collapsed": false
   },
   "outputs": [
    {
     "data": {
      "text/plain": [
       "1    5098\n",
       "2     793\n",
       "4     184\n",
       "5      44\n",
       "6      42\n",
       "3      11\n",
       "Name: MODE, dtype: int64"
      ]
     },
     "execution_count": 6,
     "metadata": {},
     "output_type": "execute_result"
    }
   ],
   "source": [
    "df_taps.MODE.value_counts()"
   ]
  },
  {
   "cell_type": "code",
   "execution_count": 7,
   "metadata": {
    "collapsed": true
   },
   "outputs": [],
   "source": [
    "df_obs_board_local    = df_obs_board[df_obs_board.first_board_tech == 'local bus']\n",
    "df_obs_board_express  = df_obs_board[df_obs_board.first_board_tech == 'express bus']\n",
    "df_obs_board_light    = df_obs_board[df_obs_board.first_board_tech == 'light rail']\n",
    "df_obs_board_ferry    = df_obs_board[df_obs_board.first_board_tech == 'ferry']\n",
    "df_obs_board_heavy    = df_obs_board[df_obs_board.first_board_tech == 'heavy rail']\n",
    "df_obs_board_commuter = df_obs_board[df_obs_board.first_board_tech == 'commuter rail']\n",
    "\n",
    "\n",
    "df_obs_alight_local    = df_obs_alight[df_obs_alight.last_alight_tech == 'local bus']\n",
    "df_obs_alight_express  = df_obs_alight[df_obs_alight.last_alight_tech == 'express bus']\n",
    "df_obs_alight_light    = df_obs_alight[df_obs_alight.last_alight_tech == 'light rail']\n",
    "df_obs_alight_ferry    = df_obs_alight[df_obs_alight.last_alight_tech == 'ferry']\n",
    "df_obs_alight_heavy    = df_obs_alight[df_obs_alight.last_alight_tech == 'heavy rail']\n",
    "df_obs_alight_commuter = df_obs_alight[df_obs_alight.last_alight_tech == 'commuter rail']\n",
    "\n",
    "df_taps_local   = df_taps[df_taps.MODE == 1]\n",
    "df_taps_express = df_taps[df_taps.MODE == 2]\n",
    "df_taps_ferry   = df_taps[df_taps.MODE == 3]\n",
    "df_taps_light   = df_taps[df_taps.MODE == 4]\n",
    "df_taps_heavy   = df_taps[df_taps.MODE == 5]\n",
    "df_taps_cmtr    = df_taps[df_taps.MODE == 6]\n",
    "\n",
    "obs_and_tap_pairs = (['local',    'first_board_lon', 'first_board_lat', df_obs_board_local,     df_taps_local],\n",
    "                     ['express',  'first_board_lon', 'first_board_lat', df_obs_board_express,   df_taps_express],\n",
    "                     ['light',    'first_board_lon', 'first_board_lat', df_obs_board_light,     df_taps_light],\n",
    "                     ['ferry',    'first_board_lon', 'first_board_lat', df_obs_board_ferry,     df_taps_ferry],\n",
    "                     ['heavy',    'first_board_lon', 'first_board_lat', df_obs_board_heavy,     df_taps_heavy],\n",
    "                     ['commuter', 'first_board_lon', 'first_board_lat', df_obs_board_commuter,  df_taps_cmtr],\n",
    "                     ['local',    'last_alight_lon', 'last_alight_lat', df_obs_alight_local,    df_taps_local],\n",
    "                     ['express',  'last_alight_lon', 'last_alight_lat', df_obs_alight_express,  df_taps_express],\n",
    "                     ['light',    'last_alight_lon', 'last_alight_lat', df_obs_alight_light,    df_taps_light],\n",
    "                     ['ferry',    'last_alight_lon', 'last_alight_lat', df_obs_alight_ferry,    df_taps_ferry],\n",
    "                     ['heavy',    'last_alight_lon', 'last_alight_lat', df_obs_alight_heavy,    df_taps_heavy],\n",
    "                     ['commuter', 'last_alight_lon', 'last_alight_lat', df_obs_alight_commuter, df_taps_cmtr])"
   ]
  },
  {
   "cell_type": "code",
   "execution_count": null,
   "metadata": {
    "collapsed": true
   },
   "outputs": [],
   "source": []
  },
  {
   "cell_type": "code",
   "execution_count": 8,
   "metadata": {
    "collapsed": false
   },
   "outputs": [
    {
     "name": "stdout",
     "output_type": "stream",
     "text": [
      "2016-09-12 11:03:31.513000\n",
      "\n",
      "Processing for    local with X = first_board_lon and Y = first_board_lat...\n"
     ]
    },
    {
     "name": "stderr",
     "output_type": "stream",
     "text": [
      "C:\\Anaconda2\\lib\\site-packages\\ipykernel\\__main__.py:26: SettingWithCopyWarning: \n",
      "A value is trying to be set on a copy of a slice from a DataFrame\n",
      "\n",
      "See the caveats in the documentation: http://pandas.pydata.org/pandas-docs/stable/indexing.html#indexing-view-versus-copy\n",
      "C:\\Anaconda2\\lib\\site-packages\\IPython\\core\\interactiveshell.py:2885: SettingWithCopyWarning: \n",
      "A value is trying to be set on a copy of a slice from a DataFrame\n",
      "\n",
      "See the caveats in the documentation: http://pandas.pydata.org/pandas-docs/stable/indexing.html#indexing-view-versus-copy\n",
      "  exec(code_obj, self.user_global_ns, self.user_ns)\n",
      "C:\\Anaconda2\\lib\\site-packages\\ipykernel\\__main__.py:27: SettingWithCopyWarning: \n",
      "A value is trying to be set on a copy of a slice from a DataFrame\n",
      "\n",
      "See the caveats in the documentation: http://pandas.pydata.org/pandas-docs/stable/indexing.html#indexing-view-versus-copy\n"
     ]
    },
    {
     "name": "stdout",
     "output_type": "stream",
     "text": [
      "Processing for  express with X = first_board_lon and Y = first_board_lat...\n",
      "Processing for    light with X = first_board_lon and Y = first_board_lat...\n",
      "Processing for    ferry with X = first_board_lon and Y = first_board_lat...\n",
      "Processing for    heavy with X = first_board_lon and Y = first_board_lat...\n",
      "Processing for commuter with X = first_board_lon and Y = first_board_lat...\n",
      "Processing for    local with X = last_alight_lon and Y = last_alight_lat...\n",
      "Processing for  express with X = last_alight_lon and Y = last_alight_lat...\n",
      "Processing for    light with X = last_alight_lon and Y = last_alight_lat...\n",
      "Processing for    ferry with X = last_alight_lon and Y = last_alight_lat...\n",
      "Processing for    heavy with X = last_alight_lon and Y = last_alight_lat...\n",
      "Processing for commuter with X = last_alight_lon and Y = last_alight_lat...\n",
      "\n",
      "2016-09-12 12:36:33.337000\n"
     ]
    }
   ],
   "source": [
    "print str(datetime.datetime.now()) + '\\n'\n",
    "\n",
    "for obs_and_tap_pair in obs_and_tap_pairs:\n",
    "    \n",
    "    x_field = obs_and_tap_pair[1]\n",
    "    y_field = obs_and_tap_pair[2]\n",
    "    \n",
    "    print 'Processing for ' + '{0: >8}'.format(obs_and_tap_pair[0]) + ' with X = ' + x_field + ' and Y = ' + y_field + '...'\n",
    "    \n",
    "    df_obs  = obs_and_tap_pair[3]\n",
    "    df_taps = obs_and_tap_pair[4]\n",
    "\n",
    "    obs_index_array = df_obs.index\n",
    "    \n",
    "    for obs_index in obs_index_array:\n",
    "        \n",
    "        obs_x = df_obs.at[obs_index,x_field]\n",
    "        obs_y = df_obs.at[obs_index,y_field]\n",
    "        \n",
    "        # try df_taps[:,('LONG')] etc to see if this is what is triggering the warning\n",
    "        df_taps['distance'] = sqrt((obs_x - df_taps['LONG'])**2 + (obs_y - df_taps['LAT'])**2)\n",
    "    \n",
    "        nearest_tap          = df_taps['distance'].idxmin(1)\n",
    "        nearest_tap_distance = df_taps.min()['distance']\n",
    "    \n",
    "        df_obs['tap'][obs_index]      = nearest_tap\n",
    "        df_obs['tap_dist'][obs_index] = nearest_tap_distance\n",
    "    \n",
    "print '\\n' + str(datetime.datetime.now())"
   ]
  },
  {
   "cell_type": "markdown",
   "metadata": {},
   "source": [
    "#### Combine data frames"
   ]
  },
  {
   "cell_type": "code",
   "execution_count": 9,
   "metadata": {
    "collapsed": true
   },
   "outputs": [],
   "source": [
    "df_obs_board  = (((df_obs_board_local.append(df_obs_board_express)).append(df_obs_board_ferry)).append(df_obs_board_commuter)).append(df_obs_board_heavy)\n",
    "df_obs_board.rename(columns = {'tap': 'board_tap', 'tap_dist': 'board_tap_dist'}, inplace = True)\n",
    "df_obs_board = df_obs_board.drop(['first_board_tech'],1)\n",
    "\n",
    "df_obs_alight = (((df_obs_alight_local.append(df_obs_alight_express)).append(df_obs_alight_ferry)).append(df_obs_alight_commuter)).append(df_obs_alight_heavy)\n",
    "df_obs_alight.rename(columns = {'tap': 'alight_tap', 'tap_dist': 'alight_tap_dist'}, inplace = True)\n",
    "df_obs_alight = df_obs_alight.drop(['last_alight_tech'],1)\n",
    "\n",
    "df_obs_board_alight = df_obs_board.join(df_obs_alight, how = 'outer')"
   ]
  },
  {
   "cell_type": "markdown",
   "metadata": {},
   "source": [
    "#### Write out results"
   ]
  },
  {
   "cell_type": "code",
   "execution_count": 10,
   "metadata": {
    "collapsed": true
   },
   "outputs": [],
   "source": [
    "filename_out = 'M:/Data/OnBoard/Data and Reports/_geocoding Standardized/boarding_alighting_places_geocoded.csv'\n",
    "df_obs_board_alight.to_csv(filename_out)"
   ]
  },
  {
   "cell_type": "markdown",
   "metadata": {},
   "source": [
    "### Diagnostics"
   ]
  },
  {
   "cell_type": "code",
   "execution_count": 11,
   "metadata": {
    "collapsed": false
   },
   "outputs": [
    {
     "data": {
      "text/html": [
       "<div>\n",
       "<table border=\"1\" class=\"dataframe\">\n",
       "  <thead>\n",
       "    <tr style=\"text-align: right;\">\n",
       "      <th></th>\n",
       "      <th>first_board_lat</th>\n",
       "      <th>first_board_lon</th>\n",
       "      <th>board_tap</th>\n",
       "      <th>board_tap_dist</th>\n",
       "      <th>last_alight_lat</th>\n",
       "      <th>last_alight_lon</th>\n",
       "      <th>alight_tap</th>\n",
       "      <th>alight_tap_dist</th>\n",
       "    </tr>\n",
       "    <tr>\n",
       "      <th>Unique_ID</th>\n",
       "      <th></th>\n",
       "      <th></th>\n",
       "      <th></th>\n",
       "      <th></th>\n",
       "      <th></th>\n",
       "      <th></th>\n",
       "      <th></th>\n",
       "      <th></th>\n",
       "    </tr>\n",
       "  </thead>\n",
       "  <tbody>\n",
       "    <tr>\n",
       "      <th>1---Caltrain---2014</th>\n",
       "      <td>37.776541</td>\n",
       "      <td>-122.395406</td>\n",
       "      <td>90742.0</td>\n",
       "      <td>0.000789</td>\n",
       "      <td>37.443340</td>\n",
       "      <td>-122.164182</td>\n",
       "      <td>291288.0</td>\n",
       "      <td>0.000078</td>\n",
       "    </tr>\n",
       "    <tr>\n",
       "      <th>10---Caltrain---2014</th>\n",
       "      <td>37.599223</td>\n",
       "      <td>-122.386097</td>\n",
       "      <td>190777.0</td>\n",
       "      <td>0.000129</td>\n",
       "      <td>37.443340</td>\n",
       "      <td>-122.164182</td>\n",
       "      <td>291288.0</td>\n",
       "      <td>0.000078</td>\n",
       "    </tr>\n",
       "    <tr>\n",
       "      <th>100---Caltrain---2014</th>\n",
       "      <td>37.580246</td>\n",
       "      <td>-122.345145</td>\n",
       "      <td>190773.0</td>\n",
       "      <td>0.000201</td>\n",
       "      <td>37.429520</td>\n",
       "      <td>-122.142258</td>\n",
       "      <td>291280.0</td>\n",
       "      <td>0.000199</td>\n",
       "    </tr>\n",
       "    <tr>\n",
       "      <th>1000---BART---2015</th>\n",
       "      <td>37.752463</td>\n",
       "      <td>-122.418157</td>\n",
       "      <td>90733.0</td>\n",
       "      <td>0.000367</td>\n",
       "      <td>37.615910</td>\n",
       "      <td>-122.392721</td>\n",
       "      <td>190770.0</td>\n",
       "      <td>0.001811</td>\n",
       "    </tr>\n",
       "    <tr>\n",
       "      <th>1000---Caltrain---2014</th>\n",
       "      <td>37.784008</td>\n",
       "      <td>-122.408092</td>\n",
       "      <td>90374.0</td>\n",
       "      <td>0.001051</td>\n",
       "      <td>37.580246</td>\n",
       "      <td>-122.345145</td>\n",
       "      <td>190773.0</td>\n",
       "      <td>0.000201</td>\n",
       "    </tr>\n",
       "    <tr>\n",
       "      <th>1000---SF Muni Pilot---2016</th>\n",
       "      <td>37.753034</td>\n",
       "      <td>-122.505712</td>\n",
       "      <td>90221.0</td>\n",
       "      <td>0.000381</td>\n",
       "      <td>37.800421</td>\n",
       "      <td>-122.447081</td>\n",
       "      <td>90381.0</td>\n",
       "      <td>0.000041</td>\n",
       "    </tr>\n",
       "    <tr>\n",
       "      <th>10000---BART---2015</th>\n",
       "      <td>NaN</td>\n",
       "      <td>NaN</td>\n",
       "      <td>NaN</td>\n",
       "      <td>NaN</td>\n",
       "      <td>37.785101</td>\n",
       "      <td>-122.406742</td>\n",
       "      <td>90739.0</td>\n",
       "      <td>0.000627</td>\n",
       "    </tr>\n",
       "    <tr>\n",
       "      <th>10001---BART---2015</th>\n",
       "      <td>37.669794</td>\n",
       "      <td>-122.087030</td>\n",
       "      <td>391420.0</td>\n",
       "      <td>0.001295</td>\n",
       "      <td>37.870072</td>\n",
       "      <td>-122.268060</td>\n",
       "      <td>391416.0</td>\n",
       "      <td>0.000339</td>\n",
       "    </tr>\n",
       "    <tr>\n",
       "      <th>10002---BART---2015</th>\n",
       "      <td>37.860647</td>\n",
       "      <td>-122.291812</td>\n",
       "      <td>390974.0</td>\n",
       "      <td>0.002462</td>\n",
       "      <td>37.779532</td>\n",
       "      <td>-122.413788</td>\n",
       "      <td>90735.0</td>\n",
       "      <td>0.000620</td>\n",
       "    </tr>\n",
       "    <tr>\n",
       "      <th>10004---BART---2015</th>\n",
       "      <td>37.634459</td>\n",
       "      <td>-122.056953</td>\n",
       "      <td>391426.0</td>\n",
       "      <td>0.000318</td>\n",
       "      <td>37.721646</td>\n",
       "      <td>-122.428427</td>\n",
       "      <td>90350.0</td>\n",
       "      <td>0.001865</td>\n",
       "    </tr>\n",
       "    <tr>\n",
       "      <th>10005---BART---2015</th>\n",
       "      <td>37.870072</td>\n",
       "      <td>-122.268060</td>\n",
       "      <td>391416.0</td>\n",
       "      <td>0.000339</td>\n",
       "      <td>37.797276</td>\n",
       "      <td>-122.265336</td>\n",
       "      <td>391421.0</td>\n",
       "      <td>0.000274</td>\n",
       "    </tr>\n",
       "    <tr>\n",
       "      <th>10007---BART---2015</th>\n",
       "      <td>37.590789</td>\n",
       "      <td>-122.017235</td>\n",
       "      <td>391427.0</td>\n",
       "      <td>0.000933</td>\n",
       "      <td>37.789394</td>\n",
       "      <td>-122.401088</td>\n",
       "      <td>90738.0</td>\n",
       "      <td>0.000225</td>\n",
       "    </tr>\n",
       "    <tr>\n",
       "      <th>10008---BART---2015</th>\n",
       "      <td>37.996025</td>\n",
       "      <td>-122.350099</td>\n",
       "      <td>490513.0</td>\n",
       "      <td>0.002005</td>\n",
       "      <td>37.873998</td>\n",
       "      <td>-122.283402</td>\n",
       "      <td>391423.0</td>\n",
       "      <td>0.000442</td>\n",
       "    </tr>\n",
       "    <tr>\n",
       "      <th>10009---BART---2015</th>\n",
       "      <td>37.936596</td>\n",
       "      <td>-122.353928</td>\n",
       "      <td>490820.0</td>\n",
       "      <td>0.000327</td>\n",
       "      <td>37.696991</td>\n",
       "      <td>-122.126455</td>\n",
       "      <td>391413.0</td>\n",
       "      <td>0.000853</td>\n",
       "    </tr>\n",
       "    <tr>\n",
       "      <th>1001---Caltrain---2014</th>\n",
       "      <td>37.328642</td>\n",
       "      <td>-121.903447</td>\n",
       "      <td>291283.0</td>\n",
       "      <td>0.001659</td>\n",
       "      <td>37.776541</td>\n",
       "      <td>-122.395406</td>\n",
       "      <td>90742.0</td>\n",
       "      <td>0.000789</td>\n",
       "    </tr>\n",
       "    <tr>\n",
       "      <th>10011---BART---2015</th>\n",
       "      <td>37.590789</td>\n",
       "      <td>-122.017235</td>\n",
       "      <td>391427.0</td>\n",
       "      <td>0.000933</td>\n",
       "      <td>37.797276</td>\n",
       "      <td>-122.265336</td>\n",
       "      <td>391421.0</td>\n",
       "      <td>0.000274</td>\n",
       "    </tr>\n",
       "    <tr>\n",
       "      <th>10012---BART---2015</th>\n",
       "      <td>37.852743</td>\n",
       "      <td>-122.269858</td>\n",
       "      <td>391412.0</td>\n",
       "      <td>0.000840</td>\n",
       "      <td>37.634459</td>\n",
       "      <td>-122.056953</td>\n",
       "      <td>391426.0</td>\n",
       "      <td>0.000318</td>\n",
       "    </tr>\n",
       "    <tr>\n",
       "      <th>10013---BART---2015</th>\n",
       "      <td>37.870072</td>\n",
       "      <td>-122.268060</td>\n",
       "      <td>391416.0</td>\n",
       "      <td>0.000339</td>\n",
       "      <td>37.936596</td>\n",
       "      <td>-122.353928</td>\n",
       "      <td>490820.0</td>\n",
       "      <td>0.000327</td>\n",
       "    </tr>\n",
       "    <tr>\n",
       "      <th>10015---BART---2015</th>\n",
       "      <td>37.870072</td>\n",
       "      <td>-122.268060</td>\n",
       "      <td>391416.0</td>\n",
       "      <td>0.000339</td>\n",
       "      <td>38.003095</td>\n",
       "      <td>-122.024344</td>\n",
       "      <td>490816.0</td>\n",
       "      <td>0.000828</td>\n",
       "    </tr>\n",
       "    <tr>\n",
       "      <th>10016---BART---2015</th>\n",
       "      <td>37.634459</td>\n",
       "      <td>-122.056953</td>\n",
       "      <td>391426.0</td>\n",
       "      <td>0.000318</td>\n",
       "      <td>37.696991</td>\n",
       "      <td>-122.126455</td>\n",
       "      <td>391413.0</td>\n",
       "      <td>0.000853</td>\n",
       "    </tr>\n",
       "    <tr>\n",
       "      <th>10018---BART---2015</th>\n",
       "      <td>37.590789</td>\n",
       "      <td>-122.017235</td>\n",
       "      <td>391427.0</td>\n",
       "      <td>0.000933</td>\n",
       "      <td>37.785101</td>\n",
       "      <td>-122.406742</td>\n",
       "      <td>90739.0</td>\n",
       "      <td>0.000627</td>\n",
       "    </tr>\n",
       "    <tr>\n",
       "      <th>10019---BART---2015</th>\n",
       "      <td>37.873998</td>\n",
       "      <td>-122.283402</td>\n",
       "      <td>391423.0</td>\n",
       "      <td>0.000442</td>\n",
       "      <td>NaN</td>\n",
       "      <td>NaN</td>\n",
       "      <td>NaN</td>\n",
       "      <td>NaN</td>\n",
       "    </tr>\n",
       "    <tr>\n",
       "      <th>1002---BART---2015</th>\n",
       "      <td>37.752463</td>\n",
       "      <td>-122.418157</td>\n",
       "      <td>90733.0</td>\n",
       "      <td>0.000367</td>\n",
       "      <td>37.600002</td>\n",
       "      <td>-122.386564</td>\n",
       "      <td>190768.0</td>\n",
       "      <td>0.000595</td>\n",
       "    </tr>\n",
       "    <tr>\n",
       "      <th>1002---Caltrain---2014</th>\n",
       "      <td>37.394458</td>\n",
       "      <td>-122.075954</td>\n",
       "      <td>291287.0</td>\n",
       "      <td>0.001617</td>\n",
       "      <td>37.615906</td>\n",
       "      <td>-122.392513</td>\n",
       "      <td>190770.0</td>\n",
       "      <td>0.001610</td>\n",
       "    </tr>\n",
       "    <tr>\n",
       "      <th>10022---BART---2015</th>\n",
       "      <td>37.924890</td>\n",
       "      <td>-122.317084</td>\n",
       "      <td>490813.0</td>\n",
       "      <td>0.000944</td>\n",
       "      <td>37.852743</td>\n",
       "      <td>-122.269858</td>\n",
       "      <td>391412.0</td>\n",
       "      <td>0.000840</td>\n",
       "    </tr>\n",
       "    <tr>\n",
       "      <th>10024---BART---2015</th>\n",
       "      <td>37.870072</td>\n",
       "      <td>-122.268060</td>\n",
       "      <td>391416.0</td>\n",
       "      <td>0.000339</td>\n",
       "      <td>37.779532</td>\n",
       "      <td>-122.413788</td>\n",
       "      <td>90735.0</td>\n",
       "      <td>0.000620</td>\n",
       "    </tr>\n",
       "    <tr>\n",
       "      <th>10026---BART---2015</th>\n",
       "      <td>37.669794</td>\n",
       "      <td>-122.087030</td>\n",
       "      <td>391420.0</td>\n",
       "      <td>0.001295</td>\n",
       "      <td>37.721548</td>\n",
       "      <td>-122.160340</td>\n",
       "      <td>391425.0</td>\n",
       "      <td>0.000916</td>\n",
       "    </tr>\n",
       "    <tr>\n",
       "      <th>10027---BART---2015</th>\n",
       "      <td>37.870072</td>\n",
       "      <td>-122.268060</td>\n",
       "      <td>391416.0</td>\n",
       "      <td>0.000339</td>\n",
       "      <td>37.753513</td>\n",
       "      <td>-122.197022</td>\n",
       "      <td>391415.0</td>\n",
       "      <td>0.001074</td>\n",
       "    </tr>\n",
       "    <tr>\n",
       "      <th>10028---BART---2015</th>\n",
       "      <td>37.696991</td>\n",
       "      <td>-122.126455</td>\n",
       "      <td>391413.0</td>\n",
       "      <td>0.000853</td>\n",
       "      <td>37.634459</td>\n",
       "      <td>-122.056953</td>\n",
       "      <td>391426.0</td>\n",
       "      <td>0.000318</td>\n",
       "    </tr>\n",
       "    <tr>\n",
       "      <th>1003---Caltrain---2014</th>\n",
       "      <td>37.432403</td>\n",
       "      <td>-122.173385</td>\n",
       "      <td>290895.0</td>\n",
       "      <td>0.001009</td>\n",
       "      <td>37.328642</td>\n",
       "      <td>-121.903447</td>\n",
       "      <td>291283.0</td>\n",
       "      <td>0.001659</td>\n",
       "    </tr>\n",
       "    <tr>\n",
       "      <th>...</th>\n",
       "      <td>...</td>\n",
       "      <td>...</td>\n",
       "      <td>...</td>\n",
       "      <td>...</td>\n",
       "      <td>...</td>\n",
       "      <td>...</td>\n",
       "      <td>...</td>\n",
       "      <td>...</td>\n",
       "    </tr>\n",
       "    <tr>\n",
       "      <th>9968---BART---2015</th>\n",
       "      <td>37.870072</td>\n",
       "      <td>-122.268060</td>\n",
       "      <td>391416.0</td>\n",
       "      <td>0.000339</td>\n",
       "      <td>37.721548</td>\n",
       "      <td>-122.160340</td>\n",
       "      <td>391425.0</td>\n",
       "      <td>0.000916</td>\n",
       "    </tr>\n",
       "    <tr>\n",
       "      <th>9969---BART---2015</th>\n",
       "      <td>37.852743</td>\n",
       "      <td>-122.269858</td>\n",
       "      <td>391412.0</td>\n",
       "      <td>0.000840</td>\n",
       "      <td>37.557685</td>\n",
       "      <td>-121.975607</td>\n",
       "      <td>391418.0</td>\n",
       "      <td>0.000354</td>\n",
       "    </tr>\n",
       "    <tr>\n",
       "      <th>997---Caltrain---2014</th>\n",
       "      <td>37.407960</td>\n",
       "      <td>-122.108158</td>\n",
       "      <td>291289.0</td>\n",
       "      <td>0.000202</td>\n",
       "      <td>37.537416</td>\n",
       "      <td>-122.297001</td>\n",
       "      <td>190775.0</td>\n",
       "      <td>0.000136</td>\n",
       "    </tr>\n",
       "    <tr>\n",
       "      <th>997---Napa Vine---2014</th>\n",
       "      <td>38.322067</td>\n",
       "      <td>-122.305072</td>\n",
       "      <td>690101.0</td>\n",
       "      <td>0.000228</td>\n",
       "      <td>38.503389</td>\n",
       "      <td>-122.466997</td>\n",
       "      <td>690009.0</td>\n",
       "      <td>0.000854</td>\n",
       "    </tr>\n",
       "    <tr>\n",
       "      <th>997---SF Muni Pilot---2016</th>\n",
       "      <td>37.794500</td>\n",
       "      <td>-122.397610</td>\n",
       "      <td>90003.0</td>\n",
       "      <td>0.001383</td>\n",
       "      <td>37.786920</td>\n",
       "      <td>-122.449960</td>\n",
       "      <td>90062.0</td>\n",
       "      <td>0.000108</td>\n",
       "    </tr>\n",
       "    <tr>\n",
       "      <th>9971---BART---2015</th>\n",
       "      <td>37.634459</td>\n",
       "      <td>-122.056953</td>\n",
       "      <td>391426.0</td>\n",
       "      <td>0.000318</td>\n",
       "      <td>37.852743</td>\n",
       "      <td>-122.269858</td>\n",
       "      <td>391412.0</td>\n",
       "      <td>0.000840</td>\n",
       "    </tr>\n",
       "    <tr>\n",
       "      <th>9972---BART---2015</th>\n",
       "      <td>37.852743</td>\n",
       "      <td>-122.269858</td>\n",
       "      <td>391412.0</td>\n",
       "      <td>0.000840</td>\n",
       "      <td>37.785101</td>\n",
       "      <td>-122.406742</td>\n",
       "      <td>90739.0</td>\n",
       "      <td>0.000627</td>\n",
       "    </tr>\n",
       "    <tr>\n",
       "      <th>9974---BART---2015</th>\n",
       "      <td>37.870072</td>\n",
       "      <td>-122.268060</td>\n",
       "      <td>391416.0</td>\n",
       "      <td>0.000339</td>\n",
       "      <td>37.712798</td>\n",
       "      <td>-122.213186</td>\n",
       "      <td>391415.0</td>\n",
       "      <td>0.044789</td>\n",
       "    </tr>\n",
       "    <tr>\n",
       "      <th>9975---BART---2015</th>\n",
       "      <td>37.870072</td>\n",
       "      <td>-122.268060</td>\n",
       "      <td>391416.0</td>\n",
       "      <td>0.000339</td>\n",
       "      <td>37.557685</td>\n",
       "      <td>-121.975607</td>\n",
       "      <td>391418.0</td>\n",
       "      <td>0.000354</td>\n",
       "    </tr>\n",
       "    <tr>\n",
       "      <th>9978---BART---2015</th>\n",
       "      <td>37.557685</td>\n",
       "      <td>-121.975607</td>\n",
       "      <td>391418.0</td>\n",
       "      <td>0.000354</td>\n",
       "      <td>37.699711</td>\n",
       "      <td>-121.928224</td>\n",
       "      <td>391428.0</td>\n",
       "      <td>0.000307</td>\n",
       "    </tr>\n",
       "    <tr>\n",
       "      <th>9979---BART---2015</th>\n",
       "      <td>37.590789</td>\n",
       "      <td>-122.017235</td>\n",
       "      <td>391427.0</td>\n",
       "      <td>0.000933</td>\n",
       "      <td>37.803677</td>\n",
       "      <td>-122.271636</td>\n",
       "      <td>391410.0</td>\n",
       "      <td>0.000213</td>\n",
       "    </tr>\n",
       "    <tr>\n",
       "      <th>998---BART---2015</th>\n",
       "      <td>37.789394</td>\n",
       "      <td>-122.401088</td>\n",
       "      <td>90738.0</td>\n",
       "      <td>0.000225</td>\n",
       "      <td>37.600002</td>\n",
       "      <td>-122.386564</td>\n",
       "      <td>190768.0</td>\n",
       "      <td>0.000595</td>\n",
       "    </tr>\n",
       "    <tr>\n",
       "      <th>998---Caltrain---2014</th>\n",
       "      <td>37.394458</td>\n",
       "      <td>-122.075954</td>\n",
       "      <td>291287.0</td>\n",
       "      <td>0.001617</td>\n",
       "      <td>37.328642</td>\n",
       "      <td>-121.903447</td>\n",
       "      <td>291283.0</td>\n",
       "      <td>0.001659</td>\n",
       "    </tr>\n",
       "    <tr>\n",
       "      <th>9981---BART---2015</th>\n",
       "      <td>37.852743</td>\n",
       "      <td>-122.269858</td>\n",
       "      <td>391412.0</td>\n",
       "      <td>0.000840</td>\n",
       "      <td>37.785101</td>\n",
       "      <td>-122.406742</td>\n",
       "      <td>90739.0</td>\n",
       "      <td>0.000627</td>\n",
       "    </tr>\n",
       "    <tr>\n",
       "      <th>9983---BART---2015</th>\n",
       "      <td>37.653791</td>\n",
       "      <td>-122.056389</td>\n",
       "      <td>390714.0</td>\n",
       "      <td>0.005809</td>\n",
       "      <td>38.017489</td>\n",
       "      <td>-121.945388</td>\n",
       "      <td>490818.0</td>\n",
       "      <td>0.001735</td>\n",
       "    </tr>\n",
       "    <tr>\n",
       "      <th>9985---BART---2015</th>\n",
       "      <td>37.852743</td>\n",
       "      <td>-122.269858</td>\n",
       "      <td>391412.0</td>\n",
       "      <td>0.000840</td>\n",
       "      <td>37.808119</td>\n",
       "      <td>-122.268879</td>\n",
       "      <td>391411.0</td>\n",
       "      <td>0.000296</td>\n",
       "    </tr>\n",
       "    <tr>\n",
       "      <th>9986---BART---2015</th>\n",
       "      <td>37.902622</td>\n",
       "      <td>-122.298949</td>\n",
       "      <td>490814.0</td>\n",
       "      <td>0.000102</td>\n",
       "      <td>37.870072</td>\n",
       "      <td>-122.268060</td>\n",
       "      <td>391416.0</td>\n",
       "      <td>0.000339</td>\n",
       "    </tr>\n",
       "    <tr>\n",
       "      <th>9988---BART---2015</th>\n",
       "      <td>37.870072</td>\n",
       "      <td>-122.268060</td>\n",
       "      <td>391416.0</td>\n",
       "      <td>0.000339</td>\n",
       "      <td>37.797276</td>\n",
       "      <td>-122.265336</td>\n",
       "      <td>391421.0</td>\n",
       "      <td>0.000274</td>\n",
       "    </tr>\n",
       "    <tr>\n",
       "      <th>9989---BART---2015</th>\n",
       "      <td>37.590789</td>\n",
       "      <td>-122.017235</td>\n",
       "      <td>391427.0</td>\n",
       "      <td>0.000933</td>\n",
       "      <td>37.775128</td>\n",
       "      <td>-122.224225</td>\n",
       "      <td>391419.0</td>\n",
       "      <td>0.000661</td>\n",
       "    </tr>\n",
       "    <tr>\n",
       "      <th>999---Caltrain---2014</th>\n",
       "      <td>37.663636</td>\n",
       "      <td>-122.443379</td>\n",
       "      <td>190771.0</td>\n",
       "      <td>0.001371</td>\n",
       "      <td>37.328642</td>\n",
       "      <td>-121.903447</td>\n",
       "      <td>291283.0</td>\n",
       "      <td>0.001659</td>\n",
       "    </tr>\n",
       "    <tr>\n",
       "      <th>9990---BART---2015</th>\n",
       "      <td>37.870072</td>\n",
       "      <td>-122.268060</td>\n",
       "      <td>391416.0</td>\n",
       "      <td>0.000339</td>\n",
       "      <td>37.721548</td>\n",
       "      <td>-122.160340</td>\n",
       "      <td>391425.0</td>\n",
       "      <td>0.000916</td>\n",
       "    </tr>\n",
       "    <tr>\n",
       "      <th>9991---BART---2015</th>\n",
       "      <td>37.924890</td>\n",
       "      <td>-122.317084</td>\n",
       "      <td>490813.0</td>\n",
       "      <td>0.000944</td>\n",
       "      <td>37.803677</td>\n",
       "      <td>-122.271636</td>\n",
       "      <td>391410.0</td>\n",
       "      <td>0.000213</td>\n",
       "    </tr>\n",
       "    <tr>\n",
       "      <th>9993---BART---2015</th>\n",
       "      <td>37.924890</td>\n",
       "      <td>-122.317084</td>\n",
       "      <td>490813.0</td>\n",
       "      <td>0.000944</td>\n",
       "      <td>37.824022</td>\n",
       "      <td>-122.237434</td>\n",
       "      <td>390895.0</td>\n",
       "      <td>0.002306</td>\n",
       "    </tr>\n",
       "    <tr>\n",
       "      <th>9995---BART---2015</th>\n",
       "      <td>37.902622</td>\n",
       "      <td>-122.298949</td>\n",
       "      <td>490814.0</td>\n",
       "      <td>0.000102</td>\n",
       "      <td>38.584271</td>\n",
       "      <td>-121.501408</td>\n",
       "      <td>590303.0</td>\n",
       "      <td>0.637448</td>\n",
       "    </tr>\n",
       "    <tr>\n",
       "      <th>9996---BART---2015</th>\n",
       "      <td>37.852743</td>\n",
       "      <td>-122.269858</td>\n",
       "      <td>391412.0</td>\n",
       "      <td>0.000840</td>\n",
       "      <td>37.924890</td>\n",
       "      <td>-122.317084</td>\n",
       "      <td>490813.0</td>\n",
       "      <td>0.000944</td>\n",
       "    </tr>\n",
       "    <tr>\n",
       "      <th>9998---BART---2015</th>\n",
       "      <td>37.557685</td>\n",
       "      <td>-121.975607</td>\n",
       "      <td>391418.0</td>\n",
       "      <td>0.000354</td>\n",
       "      <td>37.753513</td>\n",
       "      <td>-122.197022</td>\n",
       "      <td>391415.0</td>\n",
       "      <td>0.001074</td>\n",
       "    </tr>\n",
       "    <tr>\n",
       "      <th>9999---BART---2015</th>\n",
       "      <td>37.870072</td>\n",
       "      <td>-122.268060</td>\n",
       "      <td>391416.0</td>\n",
       "      <td>0.000339</td>\n",
       "      <td>37.803677</td>\n",
       "      <td>-122.271636</td>\n",
       "      <td>391410.0</td>\n",
       "      <td>0.000213</td>\n",
       "    </tr>\n",
       "    <tr>\n",
       "      <th>99991.2---BART---2015</th>\n",
       "      <td>NaN</td>\n",
       "      <td>NaN</td>\n",
       "      <td>NaN</td>\n",
       "      <td>NaN</td>\n",
       "      <td>37.701672</td>\n",
       "      <td>-121.900385</td>\n",
       "      <td>390514.0</td>\n",
       "      <td>0.001972</td>\n",
       "    </tr>\n",
       "    <tr>\n",
       "      <th>99992.2---BART---2015</th>\n",
       "      <td>37.779532</td>\n",
       "      <td>-122.413788</td>\n",
       "      <td>90735.0</td>\n",
       "      <td>0.000620</td>\n",
       "      <td>37.638664</td>\n",
       "      <td>-122.417081</td>\n",
       "      <td>190769.0</td>\n",
       "      <td>0.001712</td>\n",
       "    </tr>\n",
       "    <tr>\n",
       "      <th>99993.2---BART---2015</th>\n",
       "      <td>37.808119</td>\n",
       "      <td>-122.268879</td>\n",
       "      <td>391411.0</td>\n",
       "      <td>0.000296</td>\n",
       "      <td>37.691766</td>\n",
       "      <td>-122.074907</td>\n",
       "      <td>391414.0</td>\n",
       "      <td>0.001358</td>\n",
       "    </tr>\n",
       "  </tbody>\n",
       "</table>\n",
       "<p>54200 rows × 8 columns</p>\n",
       "</div>"
      ],
      "text/plain": [
       "                             first_board_lat  first_board_lon  board_tap  \\\n",
       "Unique_ID                                                                  \n",
       "1---Caltrain---2014                37.776541      -122.395406    90742.0   \n",
       "10---Caltrain---2014               37.599223      -122.386097   190777.0   \n",
       "100---Caltrain---2014              37.580246      -122.345145   190773.0   \n",
       "1000---BART---2015                 37.752463      -122.418157    90733.0   \n",
       "1000---Caltrain---2014             37.784008      -122.408092    90374.0   \n",
       "1000---SF Muni Pilot---2016        37.753034      -122.505712    90221.0   \n",
       "10000---BART---2015                      NaN              NaN        NaN   \n",
       "10001---BART---2015                37.669794      -122.087030   391420.0   \n",
       "10002---BART---2015                37.860647      -122.291812   390974.0   \n",
       "10004---BART---2015                37.634459      -122.056953   391426.0   \n",
       "10005---BART---2015                37.870072      -122.268060   391416.0   \n",
       "10007---BART---2015                37.590789      -122.017235   391427.0   \n",
       "10008---BART---2015                37.996025      -122.350099   490513.0   \n",
       "10009---BART---2015                37.936596      -122.353928   490820.0   \n",
       "1001---Caltrain---2014             37.328642      -121.903447   291283.0   \n",
       "10011---BART---2015                37.590789      -122.017235   391427.0   \n",
       "10012---BART---2015                37.852743      -122.269858   391412.0   \n",
       "10013---BART---2015                37.870072      -122.268060   391416.0   \n",
       "10015---BART---2015                37.870072      -122.268060   391416.0   \n",
       "10016---BART---2015                37.634459      -122.056953   391426.0   \n",
       "10018---BART---2015                37.590789      -122.017235   391427.0   \n",
       "10019---BART---2015                37.873998      -122.283402   391423.0   \n",
       "1002---BART---2015                 37.752463      -122.418157    90733.0   \n",
       "1002---Caltrain---2014             37.394458      -122.075954   291287.0   \n",
       "10022---BART---2015                37.924890      -122.317084   490813.0   \n",
       "10024---BART---2015                37.870072      -122.268060   391416.0   \n",
       "10026---BART---2015                37.669794      -122.087030   391420.0   \n",
       "10027---BART---2015                37.870072      -122.268060   391416.0   \n",
       "10028---BART---2015                37.696991      -122.126455   391413.0   \n",
       "1003---Caltrain---2014             37.432403      -122.173385   290895.0   \n",
       "...                                      ...              ...        ...   \n",
       "9968---BART---2015                 37.870072      -122.268060   391416.0   \n",
       "9969---BART---2015                 37.852743      -122.269858   391412.0   \n",
       "997---Caltrain---2014              37.407960      -122.108158   291289.0   \n",
       "997---Napa Vine---2014             38.322067      -122.305072   690101.0   \n",
       "997---SF Muni Pilot---2016         37.794500      -122.397610    90003.0   \n",
       "9971---BART---2015                 37.634459      -122.056953   391426.0   \n",
       "9972---BART---2015                 37.852743      -122.269858   391412.0   \n",
       "9974---BART---2015                 37.870072      -122.268060   391416.0   \n",
       "9975---BART---2015                 37.870072      -122.268060   391416.0   \n",
       "9978---BART---2015                 37.557685      -121.975607   391418.0   \n",
       "9979---BART---2015                 37.590789      -122.017235   391427.0   \n",
       "998---BART---2015                  37.789394      -122.401088    90738.0   \n",
       "998---Caltrain---2014              37.394458      -122.075954   291287.0   \n",
       "9981---BART---2015                 37.852743      -122.269858   391412.0   \n",
       "9983---BART---2015                 37.653791      -122.056389   390714.0   \n",
       "9985---BART---2015                 37.852743      -122.269858   391412.0   \n",
       "9986---BART---2015                 37.902622      -122.298949   490814.0   \n",
       "9988---BART---2015                 37.870072      -122.268060   391416.0   \n",
       "9989---BART---2015                 37.590789      -122.017235   391427.0   \n",
       "999---Caltrain---2014              37.663636      -122.443379   190771.0   \n",
       "9990---BART---2015                 37.870072      -122.268060   391416.0   \n",
       "9991---BART---2015                 37.924890      -122.317084   490813.0   \n",
       "9993---BART---2015                 37.924890      -122.317084   490813.0   \n",
       "9995---BART---2015                 37.902622      -122.298949   490814.0   \n",
       "9996---BART---2015                 37.852743      -122.269858   391412.0   \n",
       "9998---BART---2015                 37.557685      -121.975607   391418.0   \n",
       "9999---BART---2015                 37.870072      -122.268060   391416.0   \n",
       "99991.2---BART---2015                    NaN              NaN        NaN   \n",
       "99992.2---BART---2015              37.779532      -122.413788    90735.0   \n",
       "99993.2---BART---2015              37.808119      -122.268879   391411.0   \n",
       "\n",
       "                             board_tap_dist  last_alight_lat  last_alight_lon  \\\n",
       "Unique_ID                                                                       \n",
       "1---Caltrain---2014                0.000789        37.443340      -122.164182   \n",
       "10---Caltrain---2014               0.000129        37.443340      -122.164182   \n",
       "100---Caltrain---2014              0.000201        37.429520      -122.142258   \n",
       "1000---BART---2015                 0.000367        37.615910      -122.392721   \n",
       "1000---Caltrain---2014             0.001051        37.580246      -122.345145   \n",
       "1000---SF Muni Pilot---2016        0.000381        37.800421      -122.447081   \n",
       "10000---BART---2015                     NaN        37.785101      -122.406742   \n",
       "10001---BART---2015                0.001295        37.870072      -122.268060   \n",
       "10002---BART---2015                0.002462        37.779532      -122.413788   \n",
       "10004---BART---2015                0.000318        37.721646      -122.428427   \n",
       "10005---BART---2015                0.000339        37.797276      -122.265336   \n",
       "10007---BART---2015                0.000933        37.789394      -122.401088   \n",
       "10008---BART---2015                0.002005        37.873998      -122.283402   \n",
       "10009---BART---2015                0.000327        37.696991      -122.126455   \n",
       "1001---Caltrain---2014             0.001659        37.776541      -122.395406   \n",
       "10011---BART---2015                0.000933        37.797276      -122.265336   \n",
       "10012---BART---2015                0.000840        37.634459      -122.056953   \n",
       "10013---BART---2015                0.000339        37.936596      -122.353928   \n",
       "10015---BART---2015                0.000339        38.003095      -122.024344   \n",
       "10016---BART---2015                0.000318        37.696991      -122.126455   \n",
       "10018---BART---2015                0.000933        37.785101      -122.406742   \n",
       "10019---BART---2015                0.000442              NaN              NaN   \n",
       "1002---BART---2015                 0.000367        37.600002      -122.386564   \n",
       "1002---Caltrain---2014             0.001617        37.615906      -122.392513   \n",
       "10022---BART---2015                0.000944        37.852743      -122.269858   \n",
       "10024---BART---2015                0.000339        37.779532      -122.413788   \n",
       "10026---BART---2015                0.001295        37.721548      -122.160340   \n",
       "10027---BART---2015                0.000339        37.753513      -122.197022   \n",
       "10028---BART---2015                0.000853        37.634459      -122.056953   \n",
       "1003---Caltrain---2014             0.001009        37.328642      -121.903447   \n",
       "...                                     ...              ...              ...   \n",
       "9968---BART---2015                 0.000339        37.721548      -122.160340   \n",
       "9969---BART---2015                 0.000840        37.557685      -121.975607   \n",
       "997---Caltrain---2014              0.000202        37.537416      -122.297001   \n",
       "997---Napa Vine---2014             0.000228        38.503389      -122.466997   \n",
       "997---SF Muni Pilot---2016         0.001383        37.786920      -122.449960   \n",
       "9971---BART---2015                 0.000318        37.852743      -122.269858   \n",
       "9972---BART---2015                 0.000840        37.785101      -122.406742   \n",
       "9974---BART---2015                 0.000339        37.712798      -122.213186   \n",
       "9975---BART---2015                 0.000339        37.557685      -121.975607   \n",
       "9978---BART---2015                 0.000354        37.699711      -121.928224   \n",
       "9979---BART---2015                 0.000933        37.803677      -122.271636   \n",
       "998---BART---2015                  0.000225        37.600002      -122.386564   \n",
       "998---Caltrain---2014              0.001617        37.328642      -121.903447   \n",
       "9981---BART---2015                 0.000840        37.785101      -122.406742   \n",
       "9983---BART---2015                 0.005809        38.017489      -121.945388   \n",
       "9985---BART---2015                 0.000840        37.808119      -122.268879   \n",
       "9986---BART---2015                 0.000102        37.870072      -122.268060   \n",
       "9988---BART---2015                 0.000339        37.797276      -122.265336   \n",
       "9989---BART---2015                 0.000933        37.775128      -122.224225   \n",
       "999---Caltrain---2014              0.001371        37.328642      -121.903447   \n",
       "9990---BART---2015                 0.000339        37.721548      -122.160340   \n",
       "9991---BART---2015                 0.000944        37.803677      -122.271636   \n",
       "9993---BART---2015                 0.000944        37.824022      -122.237434   \n",
       "9995---BART---2015                 0.000102        38.584271      -121.501408   \n",
       "9996---BART---2015                 0.000840        37.924890      -122.317084   \n",
       "9998---BART---2015                 0.000354        37.753513      -122.197022   \n",
       "9999---BART---2015                 0.000339        37.803677      -122.271636   \n",
       "99991.2---BART---2015                   NaN        37.701672      -121.900385   \n",
       "99992.2---BART---2015              0.000620        37.638664      -122.417081   \n",
       "99993.2---BART---2015              0.000296        37.691766      -122.074907   \n",
       "\n",
       "                             alight_tap  alight_tap_dist  \n",
       "Unique_ID                                                 \n",
       "1---Caltrain---2014            291288.0         0.000078  \n",
       "10---Caltrain---2014           291288.0         0.000078  \n",
       "100---Caltrain---2014          291280.0         0.000199  \n",
       "1000---BART---2015             190770.0         0.001811  \n",
       "1000---Caltrain---2014         190773.0         0.000201  \n",
       "1000---SF Muni Pilot---2016     90381.0         0.000041  \n",
       "10000---BART---2015             90739.0         0.000627  \n",
       "10001---BART---2015            391416.0         0.000339  \n",
       "10002---BART---2015             90735.0         0.000620  \n",
       "10004---BART---2015             90350.0         0.001865  \n",
       "10005---BART---2015            391421.0         0.000274  \n",
       "10007---BART---2015             90738.0         0.000225  \n",
       "10008---BART---2015            391423.0         0.000442  \n",
       "10009---BART---2015            391413.0         0.000853  \n",
       "1001---Caltrain---2014          90742.0         0.000789  \n",
       "10011---BART---2015            391421.0         0.000274  \n",
       "10012---BART---2015            391426.0         0.000318  \n",
       "10013---BART---2015            490820.0         0.000327  \n",
       "10015---BART---2015            490816.0         0.000828  \n",
       "10016---BART---2015            391413.0         0.000853  \n",
       "10018---BART---2015             90739.0         0.000627  \n",
       "10019---BART---2015                 NaN              NaN  \n",
       "1002---BART---2015             190768.0         0.000595  \n",
       "1002---Caltrain---2014         190770.0         0.001610  \n",
       "10022---BART---2015            391412.0         0.000840  \n",
       "10024---BART---2015             90735.0         0.000620  \n",
       "10026---BART---2015            391425.0         0.000916  \n",
       "10027---BART---2015            391415.0         0.001074  \n",
       "10028---BART---2015            391426.0         0.000318  \n",
       "1003---Caltrain---2014         291283.0         0.001659  \n",
       "...                                 ...              ...  \n",
       "9968---BART---2015             391425.0         0.000916  \n",
       "9969---BART---2015             391418.0         0.000354  \n",
       "997---Caltrain---2014          190775.0         0.000136  \n",
       "997---Napa Vine---2014         690009.0         0.000854  \n",
       "997---SF Muni Pilot---2016      90062.0         0.000108  \n",
       "9971---BART---2015             391412.0         0.000840  \n",
       "9972---BART---2015              90739.0         0.000627  \n",
       "9974---BART---2015             391415.0         0.044789  \n",
       "9975---BART---2015             391418.0         0.000354  \n",
       "9978---BART---2015             391428.0         0.000307  \n",
       "9979---BART---2015             391410.0         0.000213  \n",
       "998---BART---2015              190768.0         0.000595  \n",
       "998---Caltrain---2014          291283.0         0.001659  \n",
       "9981---BART---2015              90739.0         0.000627  \n",
       "9983---BART---2015             490818.0         0.001735  \n",
       "9985---BART---2015             391411.0         0.000296  \n",
       "9986---BART---2015             391416.0         0.000339  \n",
       "9988---BART---2015             391421.0         0.000274  \n",
       "9989---BART---2015             391419.0         0.000661  \n",
       "999---Caltrain---2014          291283.0         0.001659  \n",
       "9990---BART---2015             391425.0         0.000916  \n",
       "9991---BART---2015             391410.0         0.000213  \n",
       "9993---BART---2015             390895.0         0.002306  \n",
       "9995---BART---2015             590303.0         0.637448  \n",
       "9996---BART---2015             490813.0         0.000944  \n",
       "9998---BART---2015             391415.0         0.001074  \n",
       "9999---BART---2015             391410.0         0.000213  \n",
       "99991.2---BART---2015          390514.0         0.001972  \n",
       "99992.2---BART---2015          190769.0         0.001712  \n",
       "99993.2---BART---2015          391414.0         0.001358  \n",
       "\n",
       "[54200 rows x 8 columns]"
      ]
     },
     "execution_count": 11,
     "metadata": {},
     "output_type": "execute_result"
    }
   ],
   "source": [
    "df_obs_board_alight"
   ]
  },
  {
   "cell_type": "code",
   "execution_count": 12,
   "metadata": {
    "collapsed": false
   },
   "outputs": [
    {
     "data": {
      "text/plain": [
       "159.39856262414753"
      ]
     },
     "execution_count": 12,
     "metadata": {},
     "output_type": "execute_result"
    }
   ],
   "source": [
    "df_obs_board_local.max()['tap_dist']"
   ]
  },
  {
   "cell_type": "code",
   "execution_count": 13,
   "metadata": {
    "collapsed": false
   },
   "outputs": [
    {
     "data": {
      "text/plain": [
       "0.4066065675973778"
      ]
     },
     "execution_count": 13,
     "metadata": {},
     "output_type": "execute_result"
    }
   ],
   "source": [
    "df_obs_board_express.max()['tap_dist']"
   ]
  },
  {
   "cell_type": "code",
   "execution_count": 14,
   "metadata": {
    "collapsed": false
   },
   "outputs": [
    {
     "data": {
      "text/plain": [
       "0.04153917497886518"
      ]
     },
     "execution_count": 14,
     "metadata": {},
     "output_type": "execute_result"
    }
   ],
   "source": [
    "df_obs_board_ferry.max()['tap_dist']"
   ]
  },
  {
   "cell_type": "code",
   "execution_count": 15,
   "metadata": {
    "collapsed": false
   },
   "outputs": [
    {
     "data": {
      "text/plain": [
       "0.6538858810835533"
      ]
     },
     "execution_count": 15,
     "metadata": {},
     "output_type": "execute_result"
    }
   ],
   "source": [
    "df_obs_board_commuter.max()['tap_dist']"
   ]
  },
  {
   "cell_type": "code",
   "execution_count": 16,
   "metadata": {
    "collapsed": false
   },
   "outputs": [
    {
     "data": {
      "text/plain": [
       "159.69250772859033"
      ]
     },
     "execution_count": 16,
     "metadata": {},
     "output_type": "execute_result"
    }
   ],
   "source": [
    "df_obs_board_light.max()['tap_dist']"
   ]
  },
  {
   "cell_type": "code",
   "execution_count": 17,
   "metadata": {
    "collapsed": false
   },
   "outputs": [
    {
     "data": {
      "text/plain": [
       "0.04478887055273736"
      ]
     },
     "execution_count": 17,
     "metadata": {},
     "output_type": "execute_result"
    }
   ],
   "source": [
    "df_obs_board_heavy.max()['tap_dist']"
   ]
  },
  {
   "cell_type": "code",
   "execution_count": 18,
   "metadata": {
    "collapsed": false
   },
   "outputs": [
    {
     "data": {
      "text/plain": [
       "39.54607360036195"
      ]
     },
     "execution_count": 18,
     "metadata": {},
     "output_type": "execute_result"
    }
   ],
   "source": [
    "df_obs_alight_local.max()['tap_dist']"
   ]
  },
  {
   "cell_type": "code",
   "execution_count": 19,
   "metadata": {
    "collapsed": false
   },
   "outputs": [
    {
     "data": {
      "text/plain": [
       "0.4660029636859579"
      ]
     },
     "execution_count": 19,
     "metadata": {},
     "output_type": "execute_result"
    }
   ],
   "source": [
    "df_obs_alight_express.max()['tap_dist']"
   ]
  },
  {
   "cell_type": "code",
   "execution_count": 20,
   "metadata": {
    "collapsed": false
   },
   "outputs": [
    {
     "data": {
      "text/plain": [
       "1.8393283075941236"
      ]
     },
     "execution_count": 20,
     "metadata": {},
     "output_type": "execute_result"
    }
   ],
   "source": [
    "df_obs_alight_light.max()['tap_dist']"
   ]
  },
  {
   "cell_type": "code",
   "execution_count": 21,
   "metadata": {
    "collapsed": false
   },
   "outputs": [
    {
     "data": {
      "text/plain": [
       "0.018805161341113544"
      ]
     },
     "execution_count": 21,
     "metadata": {},
     "output_type": "execute_result"
    }
   ],
   "source": [
    "df_obs_alight_ferry.max()['tap_dist']"
   ]
  },
  {
   "cell_type": "code",
   "execution_count": 22,
   "metadata": {
    "collapsed": false
   },
   "outputs": [
    {
     "data": {
      "text/plain": [
       "0.5966478151719906"
      ]
     },
     "execution_count": 22,
     "metadata": {},
     "output_type": "execute_result"
    }
   ],
   "source": [
    "df_obs_alight_heavy.max()['tap_dist']"
   ]
  },
  {
   "cell_type": "code",
   "execution_count": 23,
   "metadata": {
    "collapsed": false
   },
   "outputs": [
    {
     "data": {
      "text/plain": [
       "1.1311503054962397"
      ]
     },
     "execution_count": 23,
     "metadata": {},
     "output_type": "execute_result"
    }
   ],
   "source": [
    "df_obs_alight_commuter.max()['tap_dist']"
   ]
  },
  {
   "cell_type": "code",
   "execution_count": null,
   "metadata": {
    "collapsed": true
   },
   "outputs": [],
   "source": []
  }
 ],
 "metadata": {
  "anaconda-cloud": {},
  "kernelspec": {
   "display_name": "Python [Root]",
   "language": "python",
   "name": "Python [Root]"
  },
  "language_info": {
   "codemirror_mode": {
    "name": "ipython",
    "version": 2
   },
   "file_extension": ".py",
   "mimetype": "text/x-python",
   "name": "python",
   "nbconvert_exporter": "python",
   "pygments_lexer": "ipython2",
   "version": "2.7.12"
  }
 },
 "nbformat": 4,
 "nbformat_minor": 0
}
